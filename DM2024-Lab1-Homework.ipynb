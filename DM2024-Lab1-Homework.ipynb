{
 "cells": [
  {
   "cell_type": "markdown",
   "metadata": {},
   "source": [
    "### Student Information\n",
    "Name: 黃詠家 (Yung-Chia Huang)\n",
    "\n",
    "Student ID: 112061520\n",
    "\n",
    "GitHub ID: 102374298"
   ]
  },
  {
   "cell_type": "markdown",
   "metadata": {},
   "source": [
    "---"
   ]
  },
  {
   "cell_type": "markdown",
   "metadata": {},
   "source": [
    "### Instructions"
   ]
  },
  {
   "cell_type": "markdown",
   "metadata": {},
   "source": [
    "1. First: do the **take home** exercises in the [DM2024-Lab1-Master](https://github.com/didiersalazar/DM2024-Lab1-Master.git). You may need to copy some cells from the Lab notebook to this notebook. __This part is worth 20% of your grade.__\n",
    "\n",
    "\n",
    "2. Second: follow the same process from the [DM2024-Lab1-Master](https://github.com/didiersalazar/DM2024-Lab1-Master.git) on **the new dataset**. You don't need to explain all details as we did (some **minimal comments** explaining your code are useful though).  __This part is worth 30% of your grade.__\n",
    "    - Download the [the new dataset](https://huggingface.co/datasets/Senem/Nostalgic_Sentiment_Analysis_of_YouTube_Comments_Data). The dataset contains a `sentiment` and `comment` columns, with the sentiment labels being: 'nostalgia' and 'not nostalgia'. Read the specificiations of the dataset for background details. \n",
    "    - You are allowed to use and modify the `helper` functions in the folder of the first lab session (notice they may need modification) or create your own.\n",
    "\n",
    "\n",
    "3. Third: please attempt the following tasks on **the new dataset**. __This part is worth 30% of your grade.__\n",
    "    - Generate meaningful **new data visualizations**. Refer to online resources and the Data Mining textbook for inspiration and ideas. \n",
    "    - Generate **TF-IDF features** from the tokens of each text. This will generating a document matrix, however, the weights will be computed differently (using the TF-IDF value of each word per document as opposed to the word frequency). Refer to this Scikit-learn [guide](http://scikit-learn.org/stable/modules/generated/sklearn.feature_extraction.text.TfidfVectorizer.html) .\n",
    "    - Implement a simple **Naive Bayes classifier** that automatically classifies the records into their categories. Use both the TF-IDF features and word frequency features to build two seperate classifiers. Note that for the TF-IDF features you might need to use other type of NB classifier different than the one in the Master Notebook. Comment on the differences.  Refer to this [article](https://hub.packtpub.com/implementing-3-naive-bayes-classifiers-in-scikit-learn/).\n",
    "\n",
    "\n",
    "4. Fourth: In the lab, we applied each step really quickly just to illustrate how to work with your dataset. There are somethings that are not ideal or the most efficient/meaningful. Each dataset can be handled differently as well. What are those inefficent parts you noticed? How can you improve the Data preprocessing for these specific datasets? __This part is worth 10% of your grade.__\n",
    "\n",
    "\n",
    "5. Fifth: It's hard for us to follow if your code is messy, so please **tidy up your notebook** and **add minimal comments where needed**. __This part is worth 10% of your grade.__\n",
    "\n",
    "\n",
    "You can submit your homework following these guidelines: [Git Intro & How to hand your homework](https://github.com/didiersalazar/DM2024-Lab1-Master/blob/main/Git%20Intro%20%26%20How%20to%20hand%20your%20homework.ipynb). Make sure to commit and save your changes to your repository __BEFORE the deadline (October 27th 11:59 pm, Sunday)__. "
   ]
  },
  {
   "cell_type": "markdown",
   "metadata": {},
   "source": [
    "---"
   ]
  },
  {
   "cell_type": "markdown",
   "metadata": {},
   "source": [
    "## 1. Upload the Data\n",
    "Since the .csv file is open using pandas libary, we don't have to do data transform to pandas dataframe."
   ]
  },
  {
   "cell_type": "code",
   "execution_count": 1,
   "metadata": {},
   "outputs": [],
   "source": [
    "### Begin Assignment Here\n",
    "import pandas as pd\n",
    "\n",
    "df = pd.read_csv(\"Nostalgic_Sentiment_Analysis_of_YouTube_Comments_Data.csv\")"
   ]
  },
  {
   "cell_type": "code",
   "execution_count": 32,
   "metadata": {},
   "outputs": [
    {
     "data": {
      "text/html": [
       "<div>\n",
       "<style scoped>\n",
       "    .dataframe tbody tr th:only-of-type {\n",
       "        vertical-align: middle;\n",
       "    }\n",
       "\n",
       "    .dataframe tbody tr th {\n",
       "        vertical-align: top;\n",
       "    }\n",
       "\n",
       "    .dataframe thead th {\n",
       "        text-align: right;\n",
       "    }\n",
       "</style>\n",
       "<table border=\"1\" class=\"dataframe\">\n",
       "  <thead>\n",
       "    <tr style=\"text-align: right;\">\n",
       "      <th></th>\n",
       "      <th>sentiment</th>\n",
       "      <th>comment</th>\n",
       "    </tr>\n",
       "  </thead>\n",
       "  <tbody>\n",
       "    <tr>\n",
       "      <th>0</th>\n",
       "      <td>not nostalgia</td>\n",
       "      <td>He was a singer with a golden voice that I lov...</td>\n",
       "    </tr>\n",
       "    <tr>\n",
       "      <th>1</th>\n",
       "      <td>nostalgia</td>\n",
       "      <td>The mist beautiful voice ever I listened to hi...</td>\n",
       "    </tr>\n",
       "  </tbody>\n",
       "</table>\n",
       "</div>"
      ],
      "text/plain": [
       "       sentiment                                            comment\n",
       "0  not nostalgia  He was a singer with a golden voice that I lov...\n",
       "1      nostalgia  The mist beautiful voice ever I listened to hi..."
      ]
     },
     "execution_count": 32,
     "metadata": {},
     "output_type": "execute_result"
    }
   ],
   "source": [
    "## This cell is used for getting familiar with the data\n",
    "\n",
    "df.head()\n",
    "# df.tail()\n",
    "df[0:2]\n",
    "# df[0:2][['comment', 'sentiment']]\n",
    "# df['sentiment'].value_counts()"
   ]
  },
  {
   "cell_type": "code",
   "execution_count": 8,
   "metadata": {},
   "outputs": [
    {
     "name": "stdout",
     "output_type": "stream",
     "text": [
      "1. There are 1500 rows and 2 columns in the dataset.\n",
      "2. The column names are sentiment, comment.\n",
      "3. The data types of each column are:\n",
      "sentiment    object\n",
      "comment      object\n",
      "dtype: object\n",
      "4. There are no missing values.\n",
      "5. The number of unique values in each column are:\n",
      "sentiment       2\n",
      "comment      1499\n",
      "dtype: int64\n"
     ]
    }
   ],
   "source": [
    "## This cell is used for getting familiar with the data\n",
    "\n",
    "# 1. How many rows and columns are in the dataset?\n",
    "rows, columns = df.shape\n",
    "print(f\"1. There are {rows} rows and {columns} columns in the dataset.\")\n",
    "\n",
    "# 2. What are the column names?\n",
    "print(f\"2. The column names are {', '.join(df.columns)}.\")\n",
    "\n",
    "# 3. What are the data types of each column?\n",
    "print(\"3. The data types of each column are:\")\n",
    "print(df.dtypes)\n",
    "\n",
    "# 4. Are there any missing values?\n",
    "missing_values = df.isnull().sum().sum()\n",
    "if missing_values == 0:\n",
    "    print(\"4. There are no missing values.\")\n",
    "else:\n",
    "    print(f\"4. There are {missing_values} missing values.\")\n",
    "\n",
    "# 5. How many unique values are in each column?\n",
    "print(\"5. The number of unique values in each column are:\")\n",
    "print(df.nunique())"
   ]
  },
  {
   "cell_type": "markdown",
   "metadata": {},
   "source": [
    "---"
   ]
  },
  {
   "cell_type": "markdown",
   "metadata": {},
   "source": [
    "## 2. Data Mining using Pandas"
   ]
  },
  {
   "cell_type": "code",
   "execution_count": 2,
   "metadata": {},
   "outputs": [],
   "source": [
    "import helpers.data_mining_helpers as dmh"
   ]
  },
  {
   "cell_type": "markdown",
   "metadata": {},
   "source": [
    "### 2.1 Dealing with missing value"
   ]
  },
  {
   "cell_type": "code",
   "execution_count": 5,
   "metadata": {},
   "outputs": [
    {
     "data": {
      "text/html": [
       "<div>\n",
       "<style scoped>\n",
       "    .dataframe tbody tr th:only-of-type {\n",
       "        vertical-align: middle;\n",
       "    }\n",
       "\n",
       "    .dataframe tbody tr th {\n",
       "        vertical-align: top;\n",
       "    }\n",
       "\n",
       "    .dataframe thead th {\n",
       "        text-align: right;\n",
       "    }\n",
       "</style>\n",
       "<table border=\"1\" class=\"dataframe\">\n",
       "  <thead>\n",
       "    <tr style=\"text-align: right;\">\n",
       "      <th></th>\n",
       "      <th>sentiment</th>\n",
       "      <th>comment</th>\n",
       "    </tr>\n",
       "  </thead>\n",
       "  <tbody>\n",
       "    <tr>\n",
       "      <th>0</th>\n",
       "      <td>False</td>\n",
       "      <td>False</td>\n",
       "    </tr>\n",
       "    <tr>\n",
       "      <th>1</th>\n",
       "      <td>False</td>\n",
       "      <td>False</td>\n",
       "    </tr>\n",
       "    <tr>\n",
       "      <th>2</th>\n",
       "      <td>False</td>\n",
       "      <td>False</td>\n",
       "    </tr>\n",
       "    <tr>\n",
       "      <th>3</th>\n",
       "      <td>False</td>\n",
       "      <td>False</td>\n",
       "    </tr>\n",
       "    <tr>\n",
       "      <th>4</th>\n",
       "      <td>False</td>\n",
       "      <td>False</td>\n",
       "    </tr>\n",
       "    <tr>\n",
       "      <th>...</th>\n",
       "      <td>...</td>\n",
       "      <td>...</td>\n",
       "    </tr>\n",
       "    <tr>\n",
       "      <th>1495</th>\n",
       "      <td>False</td>\n",
       "      <td>False</td>\n",
       "    </tr>\n",
       "    <tr>\n",
       "      <th>1496</th>\n",
       "      <td>False</td>\n",
       "      <td>False</td>\n",
       "    </tr>\n",
       "    <tr>\n",
       "      <th>1497</th>\n",
       "      <td>False</td>\n",
       "      <td>False</td>\n",
       "    </tr>\n",
       "    <tr>\n",
       "      <th>1498</th>\n",
       "      <td>False</td>\n",
       "      <td>False</td>\n",
       "    </tr>\n",
       "    <tr>\n",
       "      <th>1499</th>\n",
       "      <td>False</td>\n",
       "      <td>False</td>\n",
       "    </tr>\n",
       "  </tbody>\n",
       "</table>\n",
       "<p>1500 rows × 2 columns</p>\n",
       "</div>"
      ],
      "text/plain": [
       "      sentiment  comment\n",
       "0         False    False\n",
       "1         False    False\n",
       "2         False    False\n",
       "3         False    False\n",
       "4         False    False\n",
       "...         ...      ...\n",
       "1495      False    False\n",
       "1496      False    False\n",
       "1497      False    False\n",
       "1498      False    False\n",
       "1499      False    False\n",
       "\n",
       "[1500 rows x 2 columns]"
      ]
     },
     "execution_count": 5,
     "metadata": {},
     "output_type": "execute_result"
    }
   ],
   "source": [
    "# check missing values\n",
    "df.isnull()"
   ]
  },
  {
   "cell_type": "code",
   "execution_count": 4,
   "metadata": {},
   "outputs": [
    {
     "data": {
      "text/html": [
       "<div>\n",
       "<style scoped>\n",
       "    .dataframe tbody tr th:only-of-type {\n",
       "        vertical-align: middle;\n",
       "    }\n",
       "\n",
       "    .dataframe tbody tr th {\n",
       "        vertical-align: top;\n",
       "    }\n",
       "\n",
       "    .dataframe thead th {\n",
       "        text-align: right;\n",
       "    }\n",
       "</style>\n",
       "<table border=\"1\" class=\"dataframe\">\n",
       "  <thead>\n",
       "    <tr style=\"text-align: right;\">\n",
       "      <th></th>\n",
       "      <th>sentiment</th>\n",
       "      <th>comment</th>\n",
       "    </tr>\n",
       "  </thead>\n",
       "  <tbody>\n",
       "    <tr>\n",
       "      <th>0</th>\n",
       "      <td>The amoung of missing records is:</td>\n",
       "      <td>The amoung of missing records is:</td>\n",
       "    </tr>\n",
       "    <tr>\n",
       "      <th>1</th>\n",
       "      <td>0</td>\n",
       "      <td>0</td>\n",
       "    </tr>\n",
       "  </tbody>\n",
       "</table>\n",
       "</div>"
      ],
      "text/plain": [
       "                            sentiment                             comment\n",
       "0  The amoung of missing records is:   The amoung of missing records is: \n",
       "1                                   0                                   0"
      ]
     },
     "execution_count": 4,
     "metadata": {},
     "output_type": "execute_result"
    }
   ],
   "source": [
    "# Check if the dataset contain missing values using the function check_missing_values\n",
    "df.isnull().apply(lambda x: dmh.check_missing_values(x))"
   ]
  },
  {
   "cell_type": "code",
   "execution_count": 7,
   "metadata": {},
   "outputs": [
    {
     "data": {
      "text/plain": [
       "0       (The amoung of missing records is: , 0)\n",
       "1       (The amoung of missing records is: , 0)\n",
       "2       (The amoung of missing records is: , 0)\n",
       "3       (The amoung of missing records is: , 0)\n",
       "4       (The amoung of missing records is: , 0)\n",
       "                         ...                   \n",
       "1495    (The amoung of missing records is: , 0)\n",
       "1496    (The amoung of missing records is: , 0)\n",
       "1497    (The amoung of missing records is: , 0)\n",
       "1498    (The amoung of missing records is: , 0)\n",
       "1499    (The amoung of missing records is: , 0)\n",
       "Length: 1500, dtype: object"
      ]
     },
     "execution_count": 7,
     "metadata": {},
     "output_type": "execute_result"
    }
   ],
   "source": [
    "# axis=1 checks for missing values in rows\n",
    "df.isnull().apply(lambda x: dmh.check_missing_values(x), axis=1)"
   ]
  },
  {
   "cell_type": "markdown",
   "metadata": {},
   "source": [
    "---\n",
    "#### 2.1.1\n",
    "Adding dummy series in current dataframe, and then delete the dummy series. To make sure that the function for finding missing value is reliable."
   ]
  },
  {
   "cell_type": "code",
   "execution_count": 14,
   "metadata": {},
   "outputs": [
    {
     "name": "stdout",
     "output_type": "stream",
     "text": [
      "The length of origin data: 1500\n",
      "The length with dummy series: 1501\n"
     ]
    }
   ],
   "source": [
    "dummy_series = pd.Series([\"dummy_record\"], index=[\"sentiment\"])\n",
    "dummy_series\n",
    "\n",
    "# Convert Series to DataFrame\n",
    "dummy_series.to_frame().T\n",
    "\n",
    "# Concatenate the DataFrames\n",
    "result_with_series = pd.concat([df, dummy_series.to_frame().T], ignore_index=True)\n",
    "\n",
    "# check if the records was commited into result\n",
    "print('The length of origin data:',len(df))\n",
    "print('The length with dummy series:',len(result_with_series))"
   ]
  },
  {
   "cell_type": "code",
   "execution_count": 15,
   "metadata": {},
   "outputs": [
    {
     "data": {
      "text/html": [
       "<div>\n",
       "<style scoped>\n",
       "    .dataframe tbody tr th:only-of-type {\n",
       "        vertical-align: middle;\n",
       "    }\n",
       "\n",
       "    .dataframe tbody tr th {\n",
       "        vertical-align: top;\n",
       "    }\n",
       "\n",
       "    .dataframe thead th {\n",
       "        text-align: right;\n",
       "    }\n",
       "</style>\n",
       "<table border=\"1\" class=\"dataframe\">\n",
       "  <thead>\n",
       "    <tr style=\"text-align: right;\">\n",
       "      <th></th>\n",
       "      <th>sentiment</th>\n",
       "      <th>comment</th>\n",
       "    </tr>\n",
       "  </thead>\n",
       "  <tbody>\n",
       "    <tr>\n",
       "      <th>0</th>\n",
       "      <td>The amoung of missing records is:</td>\n",
       "      <td>The amoung of missing records is:</td>\n",
       "    </tr>\n",
       "    <tr>\n",
       "      <th>1</th>\n",
       "      <td>0</td>\n",
       "      <td>1</td>\n",
       "    </tr>\n",
       "  </tbody>\n",
       "</table>\n",
       "</div>"
      ],
      "text/plain": [
       "                            sentiment                             comment\n",
       "0  The amoung of missing records is:   The amoung of missing records is: \n",
       "1                                   0                                   1"
      ]
     },
     "execution_count": 15,
     "metadata": {},
     "output_type": "execute_result"
    }
   ],
   "source": [
    "# try the function and see if it can detect that there is a missing value on the resulting dataframe.\n",
    "result_with_series.isnull().apply(lambda x: dmh.check_missing_values(x))"
   ]
  },
  {
   "cell_type": "code",
   "execution_count": 18,
   "metadata": {},
   "outputs": [
    {
     "name": "stdout",
     "output_type": "stream",
     "text": [
      "The length of origin data: 1501\n"
     ]
    },
    {
     "data": {
      "text/html": [
       "<div>\n",
       "<style scoped>\n",
       "    .dataframe tbody tr th:only-of-type {\n",
       "        vertical-align: middle;\n",
       "    }\n",
       "\n",
       "    .dataframe tbody tr th {\n",
       "        vertical-align: top;\n",
       "    }\n",
       "\n",
       "    .dataframe thead th {\n",
       "        text-align: right;\n",
       "    }\n",
       "</style>\n",
       "<table border=\"1\" class=\"dataframe\">\n",
       "  <thead>\n",
       "    <tr style=\"text-align: right;\">\n",
       "      <th></th>\n",
       "      <th>sentiment</th>\n",
       "      <th>comment</th>\n",
       "    </tr>\n",
       "  </thead>\n",
       "  <tbody>\n",
       "    <tr>\n",
       "      <th>0</th>\n",
       "      <td>The amoung of missing records is:</td>\n",
       "      <td>The amoung of missing records is:</td>\n",
       "    </tr>\n",
       "    <tr>\n",
       "      <th>1</th>\n",
       "      <td>0</td>\n",
       "      <td>1</td>\n",
       "    </tr>\n",
       "  </tbody>\n",
       "</table>\n",
       "</div>"
      ],
      "text/plain": [
       "                            sentiment                             comment\n",
       "0  The amoung of missing records is:   The amoung of missing records is: \n",
       "1                                   0                                   1"
      ]
     },
     "execution_count": 18,
     "metadata": {},
     "output_type": "execute_result"
    }
   ],
   "source": [
    "# insert the dummy series into the origin dataframe\n",
    "df = pd.concat([df, dummy_series.to_frame().T], ignore_index=True)\n",
    "\n",
    "print('The length of origin data:',len(df))\n",
    "\n",
    "df.isnull().apply(lambda x: dmh.check_missing_values(x))"
   ]
  },
  {
   "cell_type": "code",
   "execution_count": 20,
   "metadata": {},
   "outputs": [
    {
     "name": "stdout",
     "output_type": "stream",
     "text": [
      "The length of origin data: 1500\n"
     ]
    },
    {
     "data": {
      "text/html": [
       "<div>\n",
       "<style scoped>\n",
       "    .dataframe tbody tr th:only-of-type {\n",
       "        vertical-align: middle;\n",
       "    }\n",
       "\n",
       "    .dataframe tbody tr th {\n",
       "        vertical-align: top;\n",
       "    }\n",
       "\n",
       "    .dataframe thead th {\n",
       "        text-align: right;\n",
       "    }\n",
       "</style>\n",
       "<table border=\"1\" class=\"dataframe\">\n",
       "  <thead>\n",
       "    <tr style=\"text-align: right;\">\n",
       "      <th></th>\n",
       "      <th>sentiment</th>\n",
       "      <th>comment</th>\n",
       "    </tr>\n",
       "  </thead>\n",
       "  <tbody>\n",
       "    <tr>\n",
       "      <th>0</th>\n",
       "      <td>The amoung of missing records is:</td>\n",
       "      <td>The amoung of missing records is:</td>\n",
       "    </tr>\n",
       "    <tr>\n",
       "      <th>1</th>\n",
       "      <td>0</td>\n",
       "      <td>0</td>\n",
       "    </tr>\n",
       "  </tbody>\n",
       "</table>\n",
       "</div>"
      ],
      "text/plain": [
       "                            sentiment                             comment\n",
       "0  The amoung of missing records is:   The amoung of missing records is: \n",
       "1                                   0                                   0"
      ]
     },
     "execution_count": 20,
     "metadata": {},
     "output_type": "execute_result"
    }
   ],
   "source": [
    "# Remove missing values\n",
    "df.dropna(inplace=True)\n",
    "\n",
    "# check if the missing values were removed\n",
    "print('The length of origin data:',len(df))\n",
    "df.isnull().apply(lambda x: dmh.check_missing_values(x))"
   ]
  },
  {
   "cell_type": "markdown",
   "metadata": {},
   "source": [
    "---\n",
    "### 2.2 Dealing with duplicate data"
   ]
  },
  {
   "cell_type": "code",
   "execution_count": 24,
   "metadata": {},
   "outputs": [
    {
     "data": {
      "text/plain": [
       "1"
      ]
     },
     "execution_count": 24,
     "metadata": {},
     "output_type": "execute_result"
    }
   ],
   "source": [
    "# df.duplicated()\n",
    "sum(df.duplicated())"
   ]
  },
  {
   "cell_type": "markdown",
   "metadata": {},
   "source": [
    "Since the sum of duplicate result in 1, let's select `comment` columns instead of checking by all columns."
   ]
  },
  {
   "cell_type": "code",
   "execution_count": 25,
   "metadata": {},
   "outputs": [
    {
     "data": {
      "text/plain": [
       "1"
      ]
     },
     "execution_count": 25,
     "metadata": {},
     "output_type": "execute_result"
    }
   ],
   "source": [
    "sum(df.duplicated('comment'))"
   ]
  },
  {
   "cell_type": "code",
   "execution_count": 29,
   "metadata": {},
   "outputs": [
    {
     "data": {
      "text/html": [
       "<div>\n",
       "<style scoped>\n",
       "    .dataframe tbody tr th:only-of-type {\n",
       "        vertical-align: middle;\n",
       "    }\n",
       "\n",
       "    .dataframe tbody tr th {\n",
       "        vertical-align: top;\n",
       "    }\n",
       "\n",
       "    .dataframe thead th {\n",
       "        text-align: right;\n",
       "    }\n",
       "</style>\n",
       "<table border=\"1\" class=\"dataframe\">\n",
       "  <thead>\n",
       "    <tr style=\"text-align: right;\">\n",
       "      <th></th>\n",
       "      <th>sentiment</th>\n",
       "      <th>comment</th>\n",
       "    </tr>\n",
       "  </thead>\n",
       "  <tbody>\n",
       "    <tr>\n",
       "      <th>62</th>\n",
       "      <td>not nostalgia</td>\n",
       "      <td>never heard this song before... WOW What an am...</td>\n",
       "    </tr>\n",
       "    <tr>\n",
       "      <th>78</th>\n",
       "      <td>not nostalgia</td>\n",
       "      <td>never heard this song before... WOW What an am...</td>\n",
       "    </tr>\n",
       "  </tbody>\n",
       "</table>\n",
       "</div>"
      ],
      "text/plain": [
       "        sentiment                                            comment\n",
       "62  not nostalgia  never heard this song before... WOW What an am...\n",
       "78  not nostalgia  never heard this song before... WOW What an am..."
      ]
     },
     "execution_count": 29,
     "metadata": {},
     "output_type": "execute_result"
    }
   ],
   "source": [
    "# Find the two duplicated records\n",
    "df[df.duplicated('comment',keep=False)]"
   ]
  },
  {
   "cell_type": "markdown",
   "metadata": {},
   "source": [
    "Since we already got a duplicate records, we don't have to create a dummy duplicate series and get rid of it. We just drop the duplicate record. Be aware of that we only need to delete one record, not all the record. Therefore, `keep` is set to True, so is `inplace` (changes directly on the dataframe). The default of `keep` in `drop_duplicate` is *first*, which means to keep the first duplicate and drop all the others."
   ]
  },
  {
   "cell_type": "code",
   "execution_count": 3,
   "metadata": {},
   "outputs": [
    {
     "name": "stdout",
     "output_type": "stream",
     "text": [
      "The length of origin data: 1499\n",
      "The shape of the data: (1499, 2)\n"
     ]
    },
    {
     "data": {
      "text/html": [
       "<div>\n",
       "<style scoped>\n",
       "    .dataframe tbody tr th:only-of-type {\n",
       "        vertical-align: middle;\n",
       "    }\n",
       "\n",
       "    .dataframe tbody tr th {\n",
       "        vertical-align: top;\n",
       "    }\n",
       "\n",
       "    .dataframe thead th {\n",
       "        text-align: right;\n",
       "    }\n",
       "</style>\n",
       "<table border=\"1\" class=\"dataframe\">\n",
       "  <thead>\n",
       "    <tr style=\"text-align: right;\">\n",
       "      <th></th>\n",
       "      <th>sentiment</th>\n",
       "      <th>comment</th>\n",
       "    </tr>\n",
       "  </thead>\n",
       "  <tbody>\n",
       "    <tr>\n",
       "      <th>62</th>\n",
       "      <td>not nostalgia</td>\n",
       "      <td>never heard this song before... WOW What an am...</td>\n",
       "    </tr>\n",
       "  </tbody>\n",
       "</table>\n",
       "</div>"
      ],
      "text/plain": [
       "        sentiment                                            comment\n",
       "62  not nostalgia  never heard this song before... WOW What an am..."
      ]
     },
     "execution_count": 3,
     "metadata": {},
     "output_type": "execute_result"
    }
   ],
   "source": [
    "df.drop_duplicates(inplace=True)\n",
    "print('The length of origin data:',len(df))\n",
    "print('The shape of the data:',df.shape)\n",
    "df[62:63]"
   ]
  },
  {
   "cell_type": "markdown",
   "metadata": {},
   "source": [
    "---"
   ]
  },
  {
   "cell_type": "markdown",
   "metadata": {},
   "source": [
    "## 3. Data Preprocessing\n",
    "With section as follow:\n",
    "- 3.1 Sampling\n",
    "- 3.2 Feature Creation\n",
    "- 3.3 Feature Subset Selection\n",
    "- 3.4 Attribute transformation / Aggregation\n",
    "- 3.5 Dimensionality Reduction\n",
    "- 3.6 Discretization and Binarization"
   ]
  },
  {
   "cell_type": "markdown",
   "metadata": {},
   "source": [
    "---\n",
    "### 3.1 Sampling"
   ]
  },
  {
   "cell_type": "code",
   "execution_count": 42,
   "metadata": {},
   "outputs": [
    {
     "name": "stdout",
     "output_type": "stream",
     "text": [
      "500\n"
     ]
    },
    {
     "data": {
      "text/html": [
       "<div>\n",
       "<style scoped>\n",
       "    .dataframe tbody tr th:only-of-type {\n",
       "        vertical-align: middle;\n",
       "    }\n",
       "\n",
       "    .dataframe tbody tr th {\n",
       "        vertical-align: top;\n",
       "    }\n",
       "\n",
       "    .dataframe thead th {\n",
       "        text-align: right;\n",
       "    }\n",
       "</style>\n",
       "<table border=\"1\" class=\"dataframe\">\n",
       "  <thead>\n",
       "    <tr style=\"text-align: right;\">\n",
       "      <th></th>\n",
       "      <th>sentiment</th>\n",
       "      <th>comment</th>\n",
       "    </tr>\n",
       "  </thead>\n",
       "  <tbody>\n",
       "    <tr>\n",
       "      <th>449</th>\n",
       "      <td>nostalgia</td>\n",
       "      <td>Wow its amazing how young I was when this was ...</td>\n",
       "    </tr>\n",
       "    <tr>\n",
       "      <th>914</th>\n",
       "      <td>not nostalgia</td>\n",
       "      <td>EXCELLENT percussion and horns-----I have hear...</td>\n",
       "    </tr>\n",
       "  </tbody>\n",
       "</table>\n",
       "</div>"
      ],
      "text/plain": [
       "         sentiment                                            comment\n",
       "449      nostalgia  Wow its amazing how young I was when this was ...\n",
       "914  not nostalgia  EXCELLENT percussion and horns-----I have hear..."
      ]
     },
     "execution_count": 42,
     "metadata": {},
     "output_type": "execute_result"
    }
   ],
   "source": [
    "df_sample = df.sample(n=500)\n",
    "# check the length of the sample\n",
    "print(len(df_sample))\n",
    "# check the shape of the sample\n",
    "df_sample[0:2]"
   ]
  },
  {
   "cell_type": "markdown",
   "metadata": {},
   "source": [
    "Let's visualize and analyze the disparity between the two datasets by using `matplotlib` python library. We can see that the distribution between two datasets are similar."
   ]
  },
  {
   "cell_type": "code",
   "execution_count": 4,
   "metadata": {},
   "outputs": [],
   "source": [
    "import matplotlib.pyplot as plt\n",
    "# need this line to display the plot in jupyter notebook\n",
    "%matplotlib inline"
   ]
  },
  {
   "cell_type": "code",
   "execution_count": 47,
   "metadata": {},
   "outputs": [
    {
     "name": "stdout",
     "output_type": "stream",
     "text": [
      "['not nostalgia' 'nostalgia']\n"
     ]
    }
   ],
   "source": [
    "# find the unique values of the sentiment column\n",
    "sentiment = df.sentiment.unique()\n",
    "print(sentiment)"
   ]
  },
  {
   "cell_type": "code",
   "execution_count": 53,
   "metadata": {},
   "outputs": [
    {
     "name": "stdout",
     "output_type": "stream",
     "text": [
      "upper bound: 800\n",
      "---------------------------------\n",
      "sentiment\n",
      "nostalgia        750\n",
      "not nostalgia    749\n",
      "Name: count, dtype: int64\n",
      "---------------------------------\n",
      "sentiment\n",
      "not nostalgia    253\n",
      "nostalgia        247\n",
      "Name: count, dtype: int64\n"
     ]
    },
    {
     "data": {
      "image/png": "[encoded data removed]",
      "text/plain": [
       "<Figure size 640x480 with 1 Axes>"
      ]
     },
     "metadata": {},
     "output_type": "display_data"
    }
   ],
   "source": [
    "# The upper bound is for the plotting\n",
    "upper_bound = max(df.sentiment.value_counts()) + 50\n",
    "print('upper bound:',upper_bound)\n",
    "print('---------------------------------')\n",
    "print(df.sentiment.value_counts())\n",
    "print('---------------------------------')\n",
    "print(df_sample.sentiment.value_counts())\n",
    "\n",
    "# set the starting of x axis\n",
    "width = 0.2\n",
    "# let df shift left with width/2 for each sentiment\n",
    "X_xaxis = [x-(width/2) for x in range(len(sentiment))]\n",
    "# let df_sample shift right with width/2 for each category\n",
    "X_sample_xaxis = [x+(width/2) for x in range(len(sentiment))]\n",
    "\n",
    "X_yaxis = df.sentiment.value_counts()\n",
    "X_sample_yaxis = df_sample.sentiment.value_counts()\n",
    "\n",
    "# sort the sentiment of X_yaxis and X_sample_yaxis\n",
    "X_yaxis = X_yaxis[sentiment]\n",
    "X_sample_yaxis = X_sample_yaxis[sentiment]\n",
    "\n",
    "# plot barchart for df and df_sample\n",
    "# plot in the order of sentiment\n",
    "\n",
    "plt.bar(X_xaxis, X_yaxis,\n",
    "        width, label = 'df', alpha = 0.5)\n",
    "plt.bar(X_sample_xaxis, X_sample_yaxis,\n",
    "        width, label = 'df_sample', alpha = 0.5)\n",
    "plt.legend()\n",
    "plt.title('Category distribution')\n",
    "plt.xticks(range(len(sentiment)), sentiment, rotation = 0)\n",
    "plt.ylim([0, upper_bound])\n",
    "plt.show()"
   ]
  },
  {
   "cell_type": "markdown",
   "metadata": {},
   "source": [
    "---\n",
    "### 3.2 Feature Creation\n",
    "Create some feature from `comment`.\\\n",
    "Obtain the **Unigrams** from each comment, and append it to the dataframe."
   ]
  },
  {
   "cell_type": "code",
   "execution_count": 5,
   "metadata": {},
   "outputs": [],
   "source": [
    "import nltk"
   ]
  },
  {
   "cell_type": "code",
   "execution_count": 6,
   "metadata": {},
   "outputs": [
    {
     "data": {
      "text/plain": [
       "0    [He, was, a, singer, with, a, golden, voice, t...\n",
       "1    [The, mist, beautiful, voice, ever, I, listene...\n",
       "2    [I, have, most, of, Mr., Reeves, songs, ., Alw...\n",
       "3    [30, day, leave, from, 1st, tour, in, Viet, Na...\n",
       "Name: unigrams, dtype: object"
      ]
     },
     "execution_count": 6,
     "metadata": {},
     "output_type": "execute_result"
    }
   ],
   "source": [
    "df['unigrams'] = df['comment'].apply(lambda x: dmh.tokenize_text(x))\n",
    "df[0:4][\"unigrams\"]"
   ]
  },
  {
   "cell_type": "code",
   "execution_count": 58,
   "metadata": {},
   "outputs": [
    {
     "data": {
      "text/html": [
       "<div>\n",
       "<style scoped>\n",
       "    .dataframe tbody tr th:only-of-type {\n",
       "        vertical-align: middle;\n",
       "    }\n",
       "\n",
       "    .dataframe tbody tr th {\n",
       "        vertical-align: top;\n",
       "    }\n",
       "\n",
       "    .dataframe thead th {\n",
       "        text-align: right;\n",
       "    }\n",
       "</style>\n",
       "<table border=\"1\" class=\"dataframe\">\n",
       "  <thead>\n",
       "    <tr style=\"text-align: right;\">\n",
       "      <th></th>\n",
       "      <th>sentiment</th>\n",
       "      <th>comment</th>\n",
       "      <th>unigrams</th>\n",
       "    </tr>\n",
       "  </thead>\n",
       "  <tbody>\n",
       "    <tr>\n",
       "      <th>0</th>\n",
       "      <td>not nostalgia</td>\n",
       "      <td>He was a singer with a golden voice that I lov...</td>\n",
       "      <td>[He, was, a, singer, with, a, golden, voice, t...</td>\n",
       "    </tr>\n",
       "    <tr>\n",
       "      <th>1</th>\n",
       "      <td>nostalgia</td>\n",
       "      <td>The mist beautiful voice ever I listened to hi...</td>\n",
       "      <td>[The, mist, beautiful, voice, ever, I, listene...</td>\n",
       "    </tr>\n",
       "    <tr>\n",
       "      <th>2</th>\n",
       "      <td>nostalgia</td>\n",
       "      <td>I have most of Mr. Reeves songs.  Always love ...</td>\n",
       "      <td>[I, have, most, of, Mr., Reeves, songs, ., Alw...</td>\n",
       "    </tr>\n",
       "    <tr>\n",
       "      <th>3</th>\n",
       "      <td>not nostalgia</td>\n",
       "      <td>30 day leave from 1st tour in Viet Nam to conv...</td>\n",
       "      <td>[30, day, leave, from, 1st, tour, in, Viet, Na...</td>\n",
       "    </tr>\n",
       "  </tbody>\n",
       "</table>\n",
       "</div>"
      ],
      "text/plain": [
       "       sentiment                                            comment  \\\n",
       "0  not nostalgia  He was a singer with a golden voice that I lov...   \n",
       "1      nostalgia  The mist beautiful voice ever I listened to hi...   \n",
       "2      nostalgia  I have most of Mr. Reeves songs.  Always love ...   \n",
       "3  not nostalgia  30 day leave from 1st tour in Viet Nam to conv...   \n",
       "\n",
       "                                            unigrams  \n",
       "0  [He, was, a, singer, with, a, golden, voice, t...  \n",
       "1  [The, mist, beautiful, voice, ever, I, listene...  \n",
       "2  [I, have, most, of, Mr., Reeves, songs, ., Alw...  \n",
       "3  [30, day, leave, from, 1st, tour, in, Viet, Na...  "
      ]
     },
     "execution_count": 58,
     "metadata": {},
     "output_type": "execute_result"
    }
   ],
   "source": [
    "df[0:4]"
   ]
  },
  {
   "cell_type": "code",
   "execution_count": 60,
   "metadata": {},
   "outputs": [
    {
     "data": {
      "text/plain": [
       "[['He',\n",
       "  'was',\n",
       "  'a',\n",
       "  'singer',\n",
       "  'with',\n",
       "  'a',\n",
       "  'golden',\n",
       "  'voice',\n",
       "  'that',\n",
       "  'I',\n",
       "  'love',\n",
       "  'to',\n",
       "  'hear',\n",
       "  'all',\n",
       "  'the',\n",
       "  'time',\n",
       "  '.',\n",
       "  'I',\n",
       "  'was',\n",
       "  'his',\n",
       "  'great',\n",
       "  'fan',\n",
       "  'at',\n",
       "  'the',\n",
       "  'age',\n",
       "  'of',\n",
       "  '16years',\n",
       "  'in',\n",
       "  'those',\n",
       "  'days',\n",
       "  'and',\n",
       "  'still',\n",
       "  'now',\n",
       "  '.',\n",
       "  'Although',\n",
       "  'we',\n",
       "  'have',\n",
       "  'many',\n",
       "  'singers',\n",
       "  'now',\n",
       "  ',',\n",
       "  'but',\n",
       "  ',',\n",
       "  'I',\n",
       "  'can',\n",
       "  'vouch',\n",
       "  'for',\n",
       "  'Jim',\n",
       "  'Reeves',\n",
       "  'all',\n",
       "  'the',\n",
       "  'time',\n",
       "  '.',\n",
       "  'You',\n",
       "  'feel',\n",
       "  'relaxed',\n",
       "  ',',\n",
       "  'emotional',\n",
       "  'and',\n",
       "  'loving',\n",
       "  '.',\n",
       "  'Thank',\n",
       "  'you',\n",
       "  'Lord',\n",
       "  'for',\n",
       "  'his',\n",
       "  'life',\n",
       "  '.']]"
      ]
     },
     "execution_count": 60,
     "metadata": {},
     "output_type": "execute_result"
    }
   ],
   "source": [
    "list(df[0:1]['unigrams'])"
   ]
  },
  {
   "cell_type": "markdown",
   "metadata": {},
   "source": [
    "---\n",
    "### 3.3 Feature Subset Selection\n",
    "Generate a document-term matrix from the original dataset by using scikit learn built in functionalities. Choosing the `fit_transform` for the `CountVectorizer` is that it efficiently learns the vocabulary dictionary and returns a term-document matrix."
   ]
  },
  {
   "cell_type": "code",
   "execution_count": 7,
   "metadata": {},
   "outputs": [
    {
     "name": "stdout",
     "output_type": "stream",
     "text": [
      "  (np.int32(0), np.int32(1598))\t1\n",
      "  (np.int32(0), np.int32(3570))\t2\n",
      "  (np.int32(0), np.int32(2973))\t1\n",
      "  (np.int32(0), np.int32(3650))\t1\n",
      "  (np.int32(0), np.int32(1470))\t1\n",
      "  (np.int32(0), np.int32(3534))\t1\n",
      "  (np.int32(0), np.int32(3282))\t1\n",
      "  (np.int32(0), np.int32(2028))\t1\n",
      "  (np.int32(0), np.int32(3336))\t1\n",
      "  (np.int32(0), np.int32(1606))\t1\n",
      "  (np.int32(0), np.int32(233))\t2\n",
      "  (np.int32(0), np.int32(3284))\t3\n",
      "  (np.int32(0), np.int32(3328))\t2\n",
      "  (np.int32(0), np.int32(1651))\t2\n",
      "  (np.int32(0), np.int32(1512))\t1\n",
      "  (np.int32(0), np.int32(1249))\t1\n",
      "  (np.int32(0), np.int32(323))\t1\n",
      "  (np.int32(0), np.int32(214))\t1\n",
      "  (np.int32(0), np.int32(2341))\t1\n",
      "  (np.int32(0), np.int32(15))\t1\n",
      "  (np.int32(0), np.int32(1733))\t1\n",
      "  (np.int32(0), np.int32(3304))\t1\n",
      "  (np.int32(0), np.int32(907))\t1\n",
      "  (np.int32(0), np.int32(258))\t2\n",
      "  (np.int32(0), np.int32(3124))\t1\n",
      "  (np.int32(0), np.int32(2328))\t2\n",
      "  (np.int32(0), np.int32(245))\t1\n",
      "  (np.int32(0), np.int32(3581))\t1\n",
      "  (np.int32(0), np.int32(1591))\t1\n",
      "  (np.int32(0), np.int32(2082))\t1\n",
      "  (np.int32(0), np.int32(2974))\t1\n",
      "  (np.int32(0), np.int32(573))\t1\n",
      "  (np.int32(0), np.int32(593))\t1\n",
      "  (np.int32(0), np.int32(3538))\t1\n",
      "  (np.int32(0), np.int32(1347))\t2\n",
      "  (np.int32(0), np.int32(1833))\t1\n",
      "  (np.int32(0), np.int32(2671))\t1\n",
      "  (np.int32(0), np.int32(3713))\t2\n",
      "  (np.int32(0), np.int32(1272))\t1\n",
      "  (np.int32(0), np.int32(2688))\t1\n",
      "  (np.int32(0), np.int32(1125))\t1\n",
      "  (np.int32(0), np.int32(2035))\t1\n",
      "  (np.int32(0), np.int32(3278))\t1\n",
      "  (np.int32(0), np.int32(2018))\t1\n",
      "  (np.int32(0), np.int32(1964))\t1\n"
     ]
    }
   ],
   "source": [
    "from sklearn.feature_extraction.text import CountVectorizer\n",
    "\n",
    "count_vect = CountVectorizer()\n",
    "df_counts = count_vect.fit_transform(df.comment)\n",
    "print(df_counts[0])"
   ]
  },
  {
   "cell_type": "code",
   "execution_count": 63,
   "metadata": {},
   "outputs": [
    {
     "data": {
      "text/plain": [
       "'graduated'"
      ]
     },
     "execution_count": 63,
     "metadata": {},
     "output_type": "execute_result"
    }
   ],
   "source": [
    "# Try with different indices, you will see the corresponding feature\n",
    "count_vect.get_feature_names_out()[1487]"
   ]
  },
  {
   "cell_type": "markdown",
   "metadata": {},
   "source": [
    "Use the default analyzer provided by `CountVectorizer`. Let us look closely at this analyzer with our data. "
   ]
  },
  {
   "cell_type": "code",
   "execution_count": 8,
   "metadata": {},
   "outputs": [
    {
     "data": {
      "text/plain": [
       "['he',\n",
       " 'was',\n",
       " 'singer',\n",
       " 'with',\n",
       " 'golden',\n",
       " 'voice',\n",
       " 'that',\n",
       " 'love',\n",
       " 'to',\n",
       " 'hear',\n",
       " 'all',\n",
       " 'the',\n",
       " 'time',\n",
       " 'was',\n",
       " 'his',\n",
       " 'great',\n",
       " 'fan',\n",
       " 'at',\n",
       " 'the',\n",
       " 'age',\n",
       " 'of',\n",
       " '16years',\n",
       " 'in',\n",
       " 'those',\n",
       " 'days',\n",
       " 'and',\n",
       " 'still',\n",
       " 'now',\n",
       " 'although',\n",
       " 'we',\n",
       " 'have',\n",
       " 'many',\n",
       " 'singers',\n",
       " 'now',\n",
       " 'but',\n",
       " 'can',\n",
       " 'vouch',\n",
       " 'for',\n",
       " 'jim',\n",
       " 'reeves',\n",
       " 'all',\n",
       " 'the',\n",
       " 'time',\n",
       " 'you',\n",
       " 'feel',\n",
       " 'relaxed',\n",
       " 'emotional',\n",
       " 'and',\n",
       " 'loving',\n",
       " 'thank',\n",
       " 'you',\n",
       " 'lord',\n",
       " 'for',\n",
       " 'his',\n",
       " 'life']"
      ]
     },
     "execution_count": 8,
     "metadata": {},
     "output_type": "execute_result"
    }
   ],
   "source": [
    "analyze = count_vect.build_analyzer()\n",
    "analyze(df.comment[0])"
   ]
  },
  {
   "cell_type": "markdown",
   "metadata": {},
   "source": [
    "---\n",
    "Look back to the term-document matrix we previously built."
   ]
  },
  {
   "cell_type": "code",
   "execution_count": 66,
   "metadata": {},
   "outputs": [
    {
     "data": {
      "text/plain": [
       "(1499, 3730)"
      ]
     },
     "execution_count": 66,
     "metadata": {},
     "output_type": "execute_result"
    }
   ],
   "source": [
    "df_counts.shape\n",
    "# (1499, 3730) -> 1499 records and 3730 unique words"
   ]
  },
  {
   "cell_type": "code",
   "execution_count": 67,
   "metadata": {},
   "outputs": [
    {
     "data": {
      "text/plain": [
       "array(['00', '000', '045', '07', '10', '100', '10m', '11', '11th', '12'],\n",
       "      dtype=object)"
      ]
     },
     "execution_count": 67,
     "metadata": {},
     "output_type": "execute_result"
    }
   ],
   "source": [
    "# Obtain the feature names of the vectorizer\n",
    "count_vect.get_feature_names_out()[0:10]"
   ]
  },
  {
   "cell_type": "markdown",
   "metadata": {},
   "source": [
    "Extract the first five articles and 100 tokens, and transform them into a 2-dimensional array."
   ]
  },
  {
   "cell_type": "code",
   "execution_count": 68,
   "metadata": {},
   "outputs": [
    {
     "data": {
      "text/plain": [
       "array([[0, 0, 0, 0, 0, 0, 0, 0, 0, 0, 0, 0, 0, 0, 0, 1, 0, 0, 0, 0, 0, 0,\n",
       "        0, 0, 0, 0, 0, 0, 0, 0, 0, 0, 0, 0, 0, 0, 0, 0, 0, 0, 0, 0, 0, 0,\n",
       "        0, 0, 0, 0, 0, 0, 0, 0, 0, 0, 0, 0, 0, 0, 0, 0, 0, 0, 0, 0, 0, 0,\n",
       "        0, 0, 0, 0, 0, 0, 0, 0, 0, 0, 0, 0, 0, 0, 0, 0, 0, 0, 0, 0, 0, 0,\n",
       "        0, 0, 0, 0, 0, 0, 0, 0, 0, 0, 0, 0],\n",
       "       [0, 0, 0, 0, 0, 0, 0, 0, 0, 0, 0, 0, 0, 0, 0, 0, 0, 0, 0, 0, 0, 0,\n",
       "        0, 0, 0, 0, 0, 0, 0, 0, 0, 0, 0, 0, 0, 0, 0, 0, 0, 0, 0, 0, 0, 0,\n",
       "        0, 0, 0, 0, 0, 0, 0, 0, 0, 0, 0, 0, 0, 0, 0, 0, 0, 0, 0, 0, 0, 0,\n",
       "        0, 0, 0, 0, 0, 0, 0, 0, 0, 0, 0, 0, 0, 0, 0, 0, 0, 0, 0, 0, 0, 0,\n",
       "        0, 0, 0, 0, 0, 0, 0, 0, 0, 0, 0, 0],\n",
       "       [0, 0, 0, 0, 0, 0, 0, 0, 0, 0, 0, 0, 0, 0, 0, 0, 1, 0, 0, 0, 0, 0,\n",
       "        0, 0, 0, 0, 0, 0, 0, 0, 0, 0, 0, 0, 0, 0, 0, 0, 0, 0, 0, 0, 0, 0,\n",
       "        0, 0, 0, 0, 0, 0, 0, 0, 0, 0, 0, 0, 0, 0, 0, 0, 0, 0, 0, 0, 0, 0,\n",
       "        0, 0, 0, 0, 0, 0, 0, 0, 0, 0, 0, 0, 0, 0, 0, 0, 0, 0, 0, 0, 0, 0,\n",
       "        0, 0, 0, 0, 0, 0, 0, 0, 0, 0, 0, 0],\n",
       "       [0, 0, 0, 0, 0, 0, 0, 0, 0, 0, 0, 0, 0, 0, 0, 0, 0, 0, 0, 0, 0, 0,\n",
       "        0, 0, 0, 0, 0, 0, 0, 0, 0, 0, 0, 0, 0, 0, 0, 0, 0, 0, 0, 0, 0, 0,\n",
       "        0, 0, 0, 0, 0, 0, 0, 0, 0, 0, 0, 0, 0, 0, 0, 0, 0, 0, 1, 0, 0, 0,\n",
       "        0, 0, 0, 0, 0, 0, 0, 0, 0, 0, 0, 0, 0, 0, 0, 0, 0, 0, 0, 0, 0, 0,\n",
       "        0, 0, 1, 1, 0, 0, 0, 0, 0, 0, 0, 0],\n",
       "       [0, 0, 0, 0, 0, 0, 0, 0, 0, 0, 0, 0, 0, 0, 0, 0, 0, 0, 0, 0, 0, 0,\n",
       "        0, 0, 0, 0, 0, 0, 0, 0, 0, 0, 0, 0, 0, 0, 0, 0, 0, 0, 0, 0, 0, 0,\n",
       "        0, 0, 0, 0, 0, 0, 0, 0, 0, 0, 0, 0, 0, 0, 0, 0, 0, 0, 0, 0, 0, 0,\n",
       "        0, 0, 0, 0, 0, 0, 0, 0, 0, 0, 0, 0, 0, 0, 0, 0, 0, 0, 0, 0, 0, 0,\n",
       "        0, 0, 0, 0, 0, 0, 0, 0, 0, 0, 0, 0]])"
      ]
     },
     "execution_count": 68,
     "metadata": {},
     "output_type": "execute_result"
    }
   ],
   "source": [
    "df_counts[0:5, 0:100].toarray()"
   ]
  },
  {
   "cell_type": "markdown",
   "metadata": {},
   "source": [
    "Since the above matrix is a sparse matrix, let's try to verify the words represent for the `1` in the sparse matrix."
   ]
  },
  {
   "cell_type": "code",
   "execution_count": 9,
   "metadata": {},
   "outputs": [
    {
     "name": "stdout",
     "output_type": "stream",
     "text": [
      "The 0 record:\n",
      " [[0 0 0 0 0 0 0 0 0 0 0 0 0 0 0 1 0 0 0 0 0 0 0 0 0 0 0 0 0 0 0 0 0 0 0 0\n",
      "  0 0 0 0 0 0 0 0 0 0 0 0 0 0 0 0 0 0 0 0 0 0 0 0 0 0 0 0 0 0 0 0 0 0 0 0\n",
      "  0 0 0 0 0 0 0 0 0 0 0 0 0 0 0 0 0 0 0 0 0 0 0 0 0 0 0 0]]\n",
      "---------------------------------\n",
      "Non-zero token index: (array([0]), array([15]))\n",
      "---------------------------------\n",
      "Token represent: ['16years']\n",
      "---------------------------------\n",
      "\n",
      "The 1 record:\n",
      " [[0 0 0 0 0 0 0 0 0 0 0 0 0 0 0 0 0 0 0 0 0 0 0 0 0 0 0 0 0 0 0 0 0 0 0 0\n",
      "  0 0 0 0 0 0 0 0 0 0 0 0 0 0 0 0 0 0 0 0 0 0 0 0 0 0 0 0 0 0 0 0 0 0 0 0\n",
      "  0 0 0 0 0 0 0 0 0 0 0 0 0 0 0 0 0 0 0 0 0 0 0 0 0 0 0 0]]\n",
      "---------------------------------\n",
      "Non-zero token index: (array([], dtype=int64), array([], dtype=int64))\n",
      "---------------------------------\n",
      "Token represent: []\n",
      "---------------------------------\n",
      "\n",
      "The 2 record:\n",
      " [[0 0 0 0 0 0 0 0 0 0 0 0 0 0 0 0 1 0 0 0 0 0 0 0 0 0 0 0 0 0 0 0 0 0 0 0\n",
      "  0 0 0 0 0 0 0 0 0 0 0 0 0 0 0 0 0 0 0 0 0 0 0 0 0 0 0 0 0 0 0 0 0 0 0 0\n",
      "  0 0 0 0 0 0 0 0 0 0 0 0 0 0 0 0 0 0 0 0 0 0 0 0 0 0 0 0]]\n",
      "---------------------------------\n",
      "Non-zero token index: (array([0]), array([16]))\n",
      "---------------------------------\n",
      "Token represent: ['17']\n",
      "---------------------------------\n",
      "\n",
      "The 3 record:\n",
      " [[0 0 0 0 0 0 0 0 0 0 0 0 0 0 0 0 0 0 0 0 0 0 0 0 0 0 0 0 0 0 0 0 0 0 0 0\n",
      "  0 0 0 0 0 0 0 0 0 0 0 0 0 0 0 0 0 0 0 0 0 0 0 0 0 0 1 0 0 0 0 0 0 0 0 0\n",
      "  0 0 0 0 0 0 0 0 0 0 0 0 0 0 0 0 0 0 1 1 0 0 0 0 0 0 0 0]]\n",
      "---------------------------------\n",
      "Non-zero token index: (array([0, 0, 0]), array([62, 90, 91]))\n",
      "---------------------------------\n",
      "Token represent: ['1st' '2nd' '30']\n",
      "---------------------------------\n",
      "\n",
      "The 4 record:\n",
      " [[0 0 0 0 0 0 0 0 0 0 0 0 0 0 0 0 0 0 0 0 0 0 0 0 0 0 0 0 0 0 0 0 0 0 0 0\n",
      "  0 0 0 0 0 0 0 0 0 0 0 0 0 0 0 0 0 0 0 0 0 0 0 0 0 0 0 0 0 0 0 0 0 0 0 0\n",
      "  0 0 0 0 0 0 0 0 0 0 0 0 0 0 0 0 0 0 0 0 0 0 0 0 0 0 0 0]]\n",
      "---------------------------------\n",
      "Non-zero token index: (array([], dtype=int64), array([], dtype=int64))\n",
      "---------------------------------\n",
      "Token represent: []\n",
      "---------------------------------\n",
      "\n"
     ]
    }
   ],
   "source": [
    "import numpy as np\n",
    "\n",
    "for i in range(0, 5):\n",
    "    df_tmp = df_counts[i, 0:100].toarray()\n",
    "    print(f'The {i} record:\\n',df_tmp)\n",
    "    print('---------------------------------')\n",
    "    # find the index of the token that is not 0, and save the index\n",
    "    index = np.where(df_tmp != 0)\n",
    "    print('Non-zero token index:', index)\n",
    "    print('---------------------------------')\n",
    "    # find the token of the index\n",
    "    print('Token represent:',count_vect.get_feature_names_out()[index[1]])\n",
    "    print('---------------------------------\\n')"
   ]
  },
  {
   "cell_type": "markdown",
   "metadata": {},
   "source": [
    "---\n",
    "Look at the heat map of the term-document matrix using `seaborn`."
   ]
  },
  {
   "cell_type": "code",
   "execution_count": 10,
   "metadata": {},
   "outputs": [],
   "source": [
    "# first twenty features only\n",
    "plot_x = [\"term_\"+str(i) for i in count_vect.get_feature_names_out()[0:20]]\n",
    "\n",
    "# obtain document index\n",
    "plot_y = [\"doc_\"+ str(i) for i in list(df.index)[0:20]]\n",
    "\n",
    "# df_counts[how many documents, how many terms]\n",
    "plot_z = df_counts[0:20, 0:20].toarray()"
   ]
  },
  {
   "cell_type": "code",
   "execution_count": 11,
   "metadata": {},
   "outputs": [
    {
     "data": {
      "image/png": "[encoded data removed]",
      "text/plain": [
       "<Figure size 900x700 with 2 Axes>"
      ]
     },
     "metadata": {},
     "output_type": "display_data"
    }
   ],
   "source": [
    "import seaborn as sns\n",
    "\n",
    "df_todraw = pd.DataFrame(plot_z, columns = plot_x, index = plot_y)\n",
    "plt.subplots(figsize=(9, 7))\n",
    "ax = sns.heatmap(df_todraw,\n",
    "                 cmap=\"PuRd\",\n",
    "                 vmin=0, vmax=1, annot=True)"
   ]
  },
  {
   "cell_type": "markdown",
   "metadata": {},
   "source": [
    "The above heatmap show that the matrix is very sparse, so we can modify the code to give more information.\\\n",
    "Choose the top 20 tokens that is most frequently used in the first 20 documents."
   ]
  },
  {
   "cell_type": "code",
   "execution_count": 73,
   "metadata": {},
   "outputs": [
    {
     "name": "stdout",
     "output_type": "stream",
     "text": [
      "The top 20 token index:\n",
      " [3336 3284 2254 1733  258 2341 1651 1804 3570 3300 1833 2671 1347 2028\n",
      " 2328 1646 3468 3610 3328 3045]\n",
      "The top 20 token feature:\n",
      " ['to', 'the', 'my', 'in', 'and', 'of', 'his', 'it', 'was', 'this', 'jim', 'reeves', 'for', 'love', 'now', 'him', 'up', 'when', 'time', 'songs']\n"
     ]
    },
    {
     "data": {
      "image/png": "[encoded data removed]",
      "text/plain": [
       "<Figure size 900x700 with 2 Axes>"
      ]
     },
     "metadata": {},
     "output_type": "display_data"
    }
   ],
   "source": [
    "# 1. sum the df_counts along the axis=0\n",
    "# 2. sort the sum in descending order\n",
    "# 3. get the top 20 index\n",
    "top_20_index = np.argsort(df_counts[0:20].toarray().sum(axis=0))[::-1][:20]\n",
    "print('The top 20 token index:\\n',top_20_index)\n",
    "\n",
    "# get the top 20 token\n",
    "top_20_token = [count_vect.get_feature_names_out()[i] for i in top_20_index]\n",
    "print('The top 20 token feature:\\n',top_20_token)\n",
    "\n",
    "# plot it with heatmap\n",
    "top_20_x = [\"term_\"+str(i) for i in top_20_token]\n",
    "top_20_y = [\"doc_\"+ str(i) for i in list(df.index)[0:20]]\n",
    "top_20_z = df_counts[0:20, top_20_index].toarray()\n",
    "df_todraw = pd.DataFrame(top_20_z, columns = top_20_x, index = top_20_y)\n",
    "vmax_value = max(top_20_z.flatten())\n",
    "plt.subplots(figsize=(9, 7))\n",
    "ax = sns.heatmap(df_todraw,\n",
    "                 cmap=\"PuRd\",\n",
    "                 vmin=0, vmax=vmax_value, annot=True)"
   ]
  },
  {
   "cell_type": "markdown",
   "metadata": {},
   "source": [
    "---\n",
    "### 3.4 Attribute Transformation / Aggregation\n",
    "Attribute transformation: Take the word distribution and put the distribution in a scale that makes it easy to analyze patterns in the distrubution of words.\\\n",
    "Compute these frequencies for each term in all documents, i.e., sum of each column.\n",
    "We can refer to this process as aggregation, which we won't explore further in this notebook because of the type of data we are dealing with."
   ]
  },
  {
   "cell_type": "code",
   "execution_count": 17,
   "metadata": {},
   "outputs": [
    {
     "data": {
      "text/plain": [
       "[array([1]),\n",
       " array([2]),\n",
       " array([1]),\n",
       " array([2]),\n",
       " array([16]),\n",
       " array([5]),\n",
       " array([1]),\n",
       " array([8]),\n",
       " array([1]),\n",
       " array([11]),\n",
       " array([8]),\n",
       " array([15]),\n",
       " array([10]),\n",
       " array([2]),\n",
       " array([12]),\n",
       " array([1]),\n",
       " array([13]),\n",
       " array([1]),\n",
       " array([9]),\n",
       " array([6]),\n",
       " array([1]),\n",
       " array([1]),\n",
       " array([1]),\n",
       " array([1]),\n",
       " array([3]),\n",
       " array([2]),\n",
       " array([4]),\n",
       " array([1]),\n",
       " array([1]),\n",
       " array([1]),\n",
       " array([2]),\n",
       " array([5]),\n",
       " array([3]),\n",
       " array([2]),\n",
       " array([12]),\n",
       " array([1]),\n",
       " array([3]),\n",
       " array([10]),\n",
       " array([3]),\n",
       " array([2]),\n",
       " array([2]),\n",
       " array([5]),\n",
       " array([3]),\n",
       " array([7]),\n",
       " array([2]),\n",
       " array([1]),\n",
       " array([4]),\n",
       " array([3]),\n",
       " array([2]),\n",
       " array([7]),\n",
       " array([1]),\n",
       " array([2]),\n",
       " array([2]),\n",
       " array([4]),\n",
       " array([6]),\n",
       " array([2]),\n",
       " array([1]),\n",
       " array([1]),\n",
       " array([1]),\n",
       " array([1]),\n",
       " array([1]),\n",
       " array([2]),\n",
       " array([5]),\n",
       " array([11]),\n",
       " array([1]),\n",
       " array([1]),\n",
       " array([2]),\n",
       " array([2]),\n",
       " array([1]),\n",
       " array([1]),\n",
       " array([2]),\n",
       " array([2]),\n",
       " array([1]),\n",
       " array([8]),\n",
       " array([25]),\n",
       " array([1]),\n",
       " array([1]),\n",
       " array([1]),\n",
       " array([3]),\n",
       " array([1]),\n",
       " array([1]),\n",
       " array([2]),\n",
       " array([1]),\n",
       " array([1]),\n",
       " array([4]),\n",
       " array([1]),\n",
       " array([3]),\n",
       " array([3]),\n",
       " array([3]),\n",
       " array([1]),\n",
       " array([2]),\n",
       " array([11]),\n",
       " array([1]),\n",
       " array([2]),\n",
       " array([2]),\n",
       " array([2]),\n",
       " array([1]),\n",
       " array([1]),\n",
       " array([1]),\n",
       " array([1]),\n",
       " array([1]),\n",
       " array([13]),\n",
       " array([1]),\n",
       " array([1]),\n",
       " array([2]),\n",
       " array([1]),\n",
       " array([1]),\n",
       " array([2]),\n",
       " array([1]),\n",
       " array([4]),\n",
       " array([1]),\n",
       " array([2]),\n",
       " array([1]),\n",
       " array([5]),\n",
       " array([1]),\n",
       " array([1]),\n",
       " array([1]),\n",
       " array([20]),\n",
       " array([1]),\n",
       " array([7]),\n",
       " array([1]),\n",
       " array([3]),\n",
       " array([4]),\n",
       " array([2]),\n",
       " array([3]),\n",
       " array([2]),\n",
       " array([2]),\n",
       " array([1]),\n",
       " array([28]),\n",
       " array([20]),\n",
       " array([1]),\n",
       " array([1]),\n",
       " array([1]),\n",
       " array([3]),\n",
       " array([2]),\n",
       " array([2]),\n",
       " array([2]),\n",
       " array([4]),\n",
       " array([1]),\n",
       " array([1]),\n",
       " array([1]),\n",
       " array([2]),\n",
       " array([24]),\n",
       " array([17]),\n",
       " array([2]),\n",
       " array([1]),\n",
       " array([3]),\n",
       " array([1]),\n",
       " array([1]),\n",
       " array([3]),\n",
       " array([1]),\n",
       " array([19]),\n",
       " array([16]),\n",
       " array([1]),\n",
       " array([1]),\n",
       " array([1]),\n",
       " array([1]),\n",
       " array([1]),\n",
       " array([6]),\n",
       " array([6]),\n",
       " array([2]),\n",
       " array([1]),\n",
       " array([1]),\n",
       " array([1]),\n",
       " array([1]),\n",
       " array([1]),\n",
       " array([9]),\n",
       " array([82]),\n",
       " array([2]),\n",
       " array([1]),\n",
       " array([14]),\n",
       " array([1]),\n",
       " array([1]),\n",
       " array([1]),\n",
       " array([2]),\n",
       " array([1]),\n",
       " array([1]),\n",
       " array([3]),\n",
       " array([1]),\n",
       " array([1]),\n",
       " array([1]),\n",
       " array([2]),\n",
       " array([4]),\n",
       " array([1]),\n",
       " array([11]),\n",
       " array([1]),\n",
       " array([1]),\n",
       " array([3]),\n",
       " array([1]),\n",
       " array([1]),\n",
       " array([1]),\n",
       " array([1]),\n",
       " array([3]),\n",
       " array([1]),\n",
       " array([3]),\n",
       " array([1]),\n",
       " array([3]),\n",
       " array([2]),\n",
       " array([2]),\n",
       " array([1]),\n",
       " array([1]),\n",
       " array([1]),\n",
       " array([1]),\n",
       " array([1]),\n",
       " array([1]),\n",
       " array([2]),\n",
       " array([1]),\n",
       " array([2]),\n",
       " array([47]),\n",
       " array([3]),\n",
       " array([1]),\n",
       " array([1]),\n",
       " array([55]),\n",
       " array([3]),\n",
       " array([35]),\n",
       " array([3]),\n",
       " array([1]),\n",
       " array([2]),\n",
       " array([46]),\n",
       " array([7]),\n",
       " array([2]),\n",
       " array([2]),\n",
       " array([4]),\n",
       " array([1]),\n",
       " array([2]),\n",
       " array([1]),\n",
       " array([1]),\n",
       " array([1]),\n",
       " array([1]),\n",
       " array([10]),\n",
       " array([3]),\n",
       " array([1]),\n",
       " array([9]),\n",
       " array([181]),\n",
       " array([1]),\n",
       " array([1]),\n",
       " array([17]),\n",
       " array([4]),\n",
       " array([14]),\n",
       " array([1]),\n",
       " array([1]),\n",
       " array([7]),\n",
       " array([1]),\n",
       " array([18]),\n",
       " array([1]),\n",
       " array([8]),\n",
       " array([127]),\n",
       " array([94]),\n",
       " array([33]),\n",
       " array([3]),\n",
       " array([2]),\n",
       " array([3]),\n",
       " array([2]),\n",
       " array([3]),\n",
       " array([3]),\n",
       " array([2]),\n",
       " array([72]),\n",
       " array([1]),\n",
       " array([923]),\n",
       " array([10]),\n",
       " array([1]),\n",
       " array([1]),\n",
       " array([1]),\n",
       " array([1]),\n",
       " array([1]),\n",
       " array([1]),\n",
       " array([1]),\n",
       " array([26]),\n",
       " array([1]),\n",
       " array([1]),\n",
       " array([1]),\n",
       " array([26]),\n",
       " array([7]),\n",
       " array([22]),\n",
       " array([22]),\n",
       " array([9]),\n",
       " array([3]),\n",
       " array([2]),\n",
       " array([3]),\n",
       " array([1]),\n",
       " array([1]),\n",
       " array([1]),\n",
       " array([1]),\n",
       " array([2]),\n",
       " array([1]),\n",
       " array([2]),\n",
       " array([1]),\n",
       " array([2]),\n",
       " array([1]),\n",
       " array([1]),\n",
       " array([10]),\n",
       " array([4]),\n",
       " array([2]),\n",
       " array([2]),\n",
       " array([1]),\n",
       " array([1]),\n",
       " array([103]),\n",
       " array([4]),\n",
       " array([2]),\n",
       " array([2]),\n",
       " array([4]),\n",
       " array([26]),\n",
       " array([2]),\n",
       " array([3]),\n",
       " array([2]),\n",
       " array([1]),\n",
       " array([1]),\n",
       " array([3]),\n",
       " array([1]),\n",
       " array([11]),\n",
       " array([1]),\n",
       " array([9]),\n",
       " array([1]),\n",
       " array([171]),\n",
       " array([5]),\n",
       " array([4]),\n",
       " array([3]),\n",
       " array([1]),\n",
       " array([1]),\n",
       " array([1]),\n",
       " array([1]),\n",
       " array([1]),\n",
       " array([1]),\n",
       " array([139]),\n",
       " array([1]),\n",
       " array([2]),\n",
       " array([1]),\n",
       " array([1]),\n",
       " array([1]),\n",
       " array([7]),\n",
       " array([1]),\n",
       " array([2]),\n",
       " array([1]),\n",
       " array([3]),\n",
       " array([4]),\n",
       " array([3]),\n",
       " array([3]),\n",
       " array([1]),\n",
       " array([4]),\n",
       " array([1]),\n",
       " array([1]),\n",
       " array([1]),\n",
       " array([1]),\n",
       " array([1]),\n",
       " array([1]),\n",
       " array([1]),\n",
       " array([1]),\n",
       " array([1]),\n",
       " array([1]),\n",
       " array([2]),\n",
       " array([37]),\n",
       " array([18]),\n",
       " array([1]),\n",
       " array([1]),\n",
       " array([1]),\n",
       " array([1]),\n",
       " array([1]),\n",
       " array([9]),\n",
       " array([290]),\n",
       " array([7]),\n",
       " array([3]),\n",
       " array([1]),\n",
       " array([1]),\n",
       " array([1]),\n",
       " array([1]),\n",
       " array([1]),\n",
       " array([2]),\n",
       " array([13]),\n",
       " array([1]),\n",
       " array([1]),\n",
       " array([1]),\n",
       " array([1]),\n",
       " array([1]),\n",
       " array([17]),\n",
       " array([1]),\n",
       " array([3]),\n",
       " array([1]),\n",
       " array([2]),\n",
       " array([1]),\n",
       " array([3]),\n",
       " array([2]),\n",
       " array([2]),\n",
       " array([1]),\n",
       " array([2]),\n",
       " array([2]),\n",
       " array([1]),\n",
       " array([1]),\n",
       " array([1]),\n",
       " array([2]),\n",
       " array([1]),\n",
       " array([2]),\n",
       " array([1]),\n",
       " array([1]),\n",
       " array([1]),\n",
       " array([5]),\n",
       " array([1]),\n",
       " array([1]),\n",
       " array([1]),\n",
       " array([1]),\n",
       " array([1]),\n",
       " array([139]),\n",
       " array([6]),\n",
       " array([1]),\n",
       " array([1]),\n",
       " array([1]),\n",
       " array([6]),\n",
       " array([1]),\n",
       " array([1]),\n",
       " array([8]),\n",
       " array([1]),\n",
       " array([172]),\n",
       " array([5]),\n",
       " array([6]),\n",
       " array([5]),\n",
       " array([39]),\n",
       " array([1]),\n",
       " array([1]),\n",
       " array([1]),\n",
       " array([2]),\n",
       " array([1]),\n",
       " array([55]),\n",
       " array([1]),\n",
       " array([29]),\n",
       " array([1]),\n",
       " array([3]),\n",
       " array([5]),\n",
       " array([1]),\n",
       " array([8]),\n",
       " array([33]),\n",
       " array([1]),\n",
       " array([2]),\n",
       " array([1]),\n",
       " array([13]),\n",
       " array([1]),\n",
       " array([1]),\n",
       " array([2]),\n",
       " array([1]),\n",
       " array([2]),\n",
       " array([1]),\n",
       " array([1]),\n",
       " array([1]),\n",
       " array([3]),\n",
       " array([1]),\n",
       " array([93]),\n",
       " array([2]),\n",
       " array([1]),\n",
       " array([36]),\n",
       " array([2]),\n",
       " array([3]),\n",
       " array([16]),\n",
       " array([2]),\n",
       " array([1]),\n",
       " array([1]),\n",
       " array([1]),\n",
       " array([1]),\n",
       " array([16]),\n",
       " array([1]),\n",
       " array([1]),\n",
       " array([2]),\n",
       " array([1]),\n",
       " array([2]),\n",
       " array([2]),\n",
       " array([5]),\n",
       " array([1]),\n",
       " array([2]),\n",
       " array([1]),\n",
       " array([1]),\n",
       " array([8]),\n",
       " array([1]),\n",
       " array([1]),\n",
       " array([1]),\n",
       " array([1]),\n",
       " array([2]),\n",
       " array([1]),\n",
       " array([1]),\n",
       " array([16]),\n",
       " array([2]),\n",
       " array([3]),\n",
       " array([1]),\n",
       " array([1]),\n",
       " array([1]),\n",
       " array([1]),\n",
       " array([1]),\n",
       " array([1]),\n",
       " array([4]),\n",
       " array([1]),\n",
       " array([1]),\n",
       " array([4]),\n",
       " array([4]),\n",
       " array([1]),\n",
       " array([1]),\n",
       " array([1]),\n",
       " array([2]),\n",
       " array([1]),\n",
       " array([1]),\n",
       " array([1]),\n",
       " array([1]),\n",
       " array([1]),\n",
       " array([1]),\n",
       " array([1]),\n",
       " array([1]),\n",
       " array([1]),\n",
       " array([1]),\n",
       " array([1]),\n",
       " array([2]),\n",
       " array([2]),\n",
       " array([1]),\n",
       " array([1]),\n",
       " array([2]),\n",
       " array([3]),\n",
       " array([1]),\n",
       " array([1]),\n",
       " array([20]),\n",
       " array([13]),\n",
       " array([1]),\n",
       " array([3]),\n",
       " array([12]),\n",
       " array([1]),\n",
       " array([1]),\n",
       " array([1]),\n",
       " array([3]),\n",
       " array([1]),\n",
       " array([20]),\n",
       " array([7]),\n",
       " array([1]),\n",
       " array([2]),\n",
       " array([2]),\n",
       " array([1]),\n",
       " array([2]),\n",
       " array([6]),\n",
       " array([1]),\n",
       " array([1]),\n",
       " array([1]),\n",
       " array([3]),\n",
       " array([1]),\n",
       " array([16]),\n",
       " array([4]),\n",
       " array([1]),\n",
       " array([1]),\n",
       " array([19]),\n",
       " array([1]),\n",
       " array([25]),\n",
       " array([11]),\n",
       " array([108]),\n",
       " array([2]),\n",
       " array([3]),\n",
       " array([1]),\n",
       " array([1]),\n",
       " array([1]),\n",
       " array([1]),\n",
       " array([6]),\n",
       " array([5]),\n",
       " array([14]),\n",
       " array([16]),\n",
       " array([20]),\n",
       " array([1]),\n",
       " array([1]),\n",
       " array([1]),\n",
       " array([1]),\n",
       " array([1]),\n",
       " array([1]),\n",
       " array([3]),\n",
       " array([1]),\n",
       " array([1]),\n",
       " array([2]),\n",
       " array([2]),\n",
       " array([1]),\n",
       " array([1]),\n",
       " array([1]),\n",
       " array([2]),\n",
       " array([1]),\n",
       " array([3]),\n",
       " array([1]),\n",
       " array([195]),\n",
       " array([1]),\n",
       " array([2]),\n",
       " array([1]),\n",
       " array([75]),\n",
       " array([2]),\n",
       " array([1]),\n",
       " array([1]),\n",
       " array([2]),\n",
       " array([4]),\n",
       " array([18]),\n",
       " array([2]),\n",
       " array([1]),\n",
       " array([1]),\n",
       " array([1]),\n",
       " array([1]),\n",
       " array([47]),\n",
       " array([1]),\n",
       " array([2]),\n",
       " array([1]),\n",
       " array([136]),\n",
       " array([1]),\n",
       " array([3]),\n",
       " array([1]),\n",
       " array([2]),\n",
       " array([5]),\n",
       " array([1]),\n",
       " array([1]),\n",
       " array([1]),\n",
       " array([3]),\n",
       " array([16]),\n",
       " array([1]),\n",
       " array([7]),\n",
       " array([1]),\n",
       " array([2]),\n",
       " array([2]),\n",
       " array([2]),\n",
       " array([1]),\n",
       " array([1]),\n",
       " array([1]),\n",
       " array([1]),\n",
       " array([2]),\n",
       " array([1]),\n",
       " array([1]),\n",
       " array([1]),\n",
       " array([1]),\n",
       " array([3]),\n",
       " array([6]),\n",
       " array([2]),\n",
       " array([1]),\n",
       " array([3]),\n",
       " array([2]),\n",
       " array([2]),\n",
       " array([1]),\n",
       " array([1]),\n",
       " array([7]),\n",
       " array([1]),\n",
       " array([1]),\n",
       " array([3]),\n",
       " array([3]),\n",
       " array([1]),\n",
       " array([1]),\n",
       " array([3]),\n",
       " array([8]),\n",
       " array([3]),\n",
       " array([1]),\n",
       " array([1]),\n",
       " array([1]),\n",
       " array([1]),\n",
       " array([1]),\n",
       " array([1]),\n",
       " array([3]),\n",
       " array([3]),\n",
       " array([10]),\n",
       " array([1]),\n",
       " array([1]),\n",
       " array([1]),\n",
       " array([1]),\n",
       " array([2]),\n",
       " array([10]),\n",
       " array([11]),\n",
       " array([3]),\n",
       " array([3]),\n",
       " array([1]),\n",
       " array([1]),\n",
       " array([2]),\n",
       " array([1]),\n",
       " array([1]),\n",
       " array([1]),\n",
       " array([1]),\n",
       " array([1]),\n",
       " array([4]),\n",
       " array([2]),\n",
       " array([1]),\n",
       " array([2]),\n",
       " array([1]),\n",
       " array([1]),\n",
       " array([1]),\n",
       " array([1]),\n",
       " array([1]),\n",
       " array([1]),\n",
       " array([2]),\n",
       " array([1]),\n",
       " array([1]),\n",
       " array([1]),\n",
       " array([1]),\n",
       " array([1]),\n",
       " array([2]),\n",
       " array([27]),\n",
       " array([81]),\n",
       " array([5]),\n",
       " array([2]),\n",
       " array([3]),\n",
       " array([1]),\n",
       " array([1]),\n",
       " array([2]),\n",
       " array([2]),\n",
       " array([1]),\n",
       " array([1]),\n",
       " array([3]),\n",
       " array([2]),\n",
       " array([1]),\n",
       " array([1]),\n",
       " array([1]),\n",
       " array([1]),\n",
       " array([1]),\n",
       " array([1]),\n",
       " array([1]),\n",
       " array([1]),\n",
       " array([1]),\n",
       " array([6]),\n",
       " array([34]),\n",
       " array([1]),\n",
       " array([7]),\n",
       " array([1]),\n",
       " array([1]),\n",
       " array([1]),\n",
       " array([1]),\n",
       " array([5]),\n",
       " array([8]),\n",
       " array([2]),\n",
       " array([1]),\n",
       " array([1]),\n",
       " array([1]),\n",
       " array([6]),\n",
       " array([1]),\n",
       " array([2]),\n",
       " array([9]),\n",
       " array([2]),\n",
       " array([1]),\n",
       " array([1]),\n",
       " array([1]),\n",
       " array([7]),\n",
       " array([1]),\n",
       " array([1]),\n",
       " array([1]),\n",
       " array([1]),\n",
       " array([2]),\n",
       " array([1]),\n",
       " array([1]),\n",
       " array([1]),\n",
       " array([3]),\n",
       " array([5]),\n",
       " array([1]),\n",
       " array([1]),\n",
       " array([1]),\n",
       " array([1]),\n",
       " array([1]),\n",
       " array([44]),\n",
       " array([1]),\n",
       " array([9]),\n",
       " array([2]),\n",
       " array([2]),\n",
       " array([1]),\n",
       " array([5]),\n",
       " array([4]),\n",
       " array([1]),\n",
       " array([9]),\n",
       " array([3]),\n",
       " array([4]),\n",
       " array([2]),\n",
       " array([1]),\n",
       " array([1]),\n",
       " array([1]),\n",
       " array([1]),\n",
       " array([1]),\n",
       " array([1]),\n",
       " array([3]),\n",
       " array([3]),\n",
       " array([3]),\n",
       " array([1]),\n",
       " array([2]),\n",
       " array([1]),\n",
       " array([1]),\n",
       " array([1]),\n",
       " array([2]),\n",
       " array([1]),\n",
       " array([1]),\n",
       " array([3]),\n",
       " array([1]),\n",
       " array([1]),\n",
       " array([1]),\n",
       " array([1]),\n",
       " array([2]),\n",
       " array([1]),\n",
       " array([1]),\n",
       " array([1]),\n",
       " array([1]),\n",
       " array([1]),\n",
       " array([1]),\n",
       " array([1]),\n",
       " array([1]),\n",
       " array([8]),\n",
       " array([1]),\n",
       " array([1]),\n",
       " array([1]),\n",
       " array([1]),\n",
       " array([1]),\n",
       " array([1]),\n",
       " array([1]),\n",
       " array([1]),\n",
       " array([1]),\n",
       " array([2]),\n",
       " array([1]),\n",
       " array([1]),\n",
       " array([1]),\n",
       " array([1]),\n",
       " array([1]),\n",
       " array([1]),\n",
       " array([1]),\n",
       " array([1]),\n",
       " array([1]),\n",
       " array([1]),\n",
       " array([2]),\n",
       " array([1]),\n",
       " array([1]),\n",
       " array([1]),\n",
       " array([1]),\n",
       " array([1]),\n",
       " array([7]),\n",
       " array([1]),\n",
       " array([1]),\n",
       " array([2]),\n",
       " array([1]),\n",
       " array([1]),\n",
       " array([1]),\n",
       " array([1]),\n",
       " array([1]),\n",
       " array([1]),\n",
       " array([66]),\n",
       " array([7]),\n",
       " array([1]),\n",
       " array([1]),\n",
       " array([35]),\n",
       " array([6]),\n",
       " array([1]),\n",
       " array([2]),\n",
       " array([1]),\n",
       " array([7]),\n",
       " array([2]),\n",
       " array([2]),\n",
       " array([3]),\n",
       " array([1]),\n",
       " array([1]),\n",
       " array([1]),\n",
       " array([3]),\n",
       " array([1]),\n",
       " array([7]),\n",
       " array([2]),\n",
       " array([7]),\n",
       " array([5]),\n",
       " array([1]),\n",
       " array([3]),\n",
       " array([1]),\n",
       " array([5]),\n",
       " array([1]),\n",
       " array([1]),\n",
       " array([4]),\n",
       " array([1]),\n",
       " array([1]),\n",
       " array([1]),\n",
       " array([2]),\n",
       " array([1]),\n",
       " array([4]),\n",
       " array([1]),\n",
       " array([1]),\n",
       " array([2]),\n",
       " array([2]),\n",
       " array([3]),\n",
       " array([26]),\n",
       " array([8]),\n",
       " array([1]),\n",
       " array([1]),\n",
       " array([1]),\n",
       " array([1]),\n",
       " array([1]),\n",
       " array([2]),\n",
       " array([1]),\n",
       " array([1]),\n",
       " array([4]),\n",
       " array([1]),\n",
       " array([1]),\n",
       " array([4]),\n",
       " array([1]),\n",
       " array([1]),\n",
       " array([67]),\n",
       " array([7]),\n",
       " array([1]),\n",
       " array([1]),\n",
       " array([9]),\n",
       " array([28]),\n",
       " array([8]),\n",
       " array([1]),\n",
       " array([6]),\n",
       " array([18]),\n",
       " array([1]),\n",
       " array([1]),\n",
       " array([1]),\n",
       " array([1]),\n",
       " array([2]),\n",
       " array([1]),\n",
       " array([2]),\n",
       " array([2]),\n",
       " array([1]),\n",
       " array([1]),\n",
       " array([3]),\n",
       " array([3]),\n",
       " array([2]),\n",
       " array([1]),\n",
       " array([12]),\n",
       " array([1]),\n",
       " array([1]),\n",
       " array([5]),\n",
       " array([60]),\n",
       " array([100]),\n",
       " array([1]),\n",
       " array([4]),\n",
       " array([1]),\n",
       " array([5]),\n",
       " array([9]),\n",
       " array([4]),\n",
       " array([2]),\n",
       " array([3]),\n",
       " array([1]),\n",
       " array([2]),\n",
       " array([3]),\n",
       " array([1]),\n",
       " array([1]),\n",
       " array([1]),\n",
       " array([1]),\n",
       " array([1]),\n",
       " array([1]),\n",
       " array([3]),\n",
       " array([1]),\n",
       " array([1]),\n",
       " array([1]),\n",
       " array([5]),\n",
       " array([1]),\n",
       " array([1]),\n",
       " array([2]),\n",
       " array([2]),\n",
       " array([1]),\n",
       " array([1]),\n",
       " array([1]),\n",
       " array([1]),\n",
       " array([2]),\n",
       " array([2]),\n",
       " array([1]),\n",
       " array([3]),\n",
       " array([2]),\n",
       " array([1]),\n",
       " array([2]),\n",
       " array([1]),\n",
       " array([4]),\n",
       " array([1]),\n",
       " array([1]),\n",
       " array([2]),\n",
       " array([1]),\n",
       " array([1]),\n",
       " array([1]),\n",
       " array([1]),\n",
       " array([1]),\n",
       " array([1]),\n",
       " array([1]),\n",
       " array([1]),\n",
       " array([1]),\n",
       " array([1]),\n",
       " array([1]),\n",
       " array([1]),\n",
       " array([1]),\n",
       " array([1]),\n",
       " array([1]),\n",
       " array([4]),\n",
       " array([48]),\n",
       " array([24]),\n",
       " array([1]),\n",
       " array([6]),\n",
       " array([22]),\n",
       " array([1]),\n",
       " array([2]),\n",
       " array([11]),\n",
       " array([1]),\n",
       " array([1]),\n",
       " array([1]),\n",
       " array([1]),\n",
       " array([1]),\n",
       " array([5]),\n",
       " array([1]),\n",
       " array([10]),\n",
       " array([1]),\n",
       " array([2]),\n",
       " array([1]),\n",
       " array([1]),\n",
       " array([1]),\n",
       " array([2]),\n",
       " array([1]),\n",
       " array([1]),\n",
       " array([1]),\n",
       " array([1]),\n",
       " array([6]),\n",
       " array([1]),\n",
       " array([1]),\n",
       " array([1]),\n",
       " array([2]),\n",
       " array([1]),\n",
       " array([1]),\n",
       " array([1]),\n",
       " ...]"
      ]
     },
     "execution_count": 17,
     "metadata": {},
     "output_type": "execute_result"
    }
   ],
   "source": [
    "# note this takes time to compute\n",
    "term_frequencies = []\n",
    "for j in range(0,df_counts.shape[1]):\n",
    "    term_frequencies.append(sum(df_counts[:,j].toarray()))\n",
    "\n",
    "term_frequencies"
   ]
  },
  {
   "cell_type": "code",
   "execution_count": 18,
   "metadata": {},
   "outputs": [
    {
     "data": {
      "text/plain": [
       "array([1, 2, 1, ..., 1, 1, 1])"
      ]
     },
     "execution_count": 18,
     "metadata": {},
     "output_type": "execute_result"
    }
   ],
   "source": [
    "term_frequencies = np.asarray(df_counts.sum(axis=0))[0]\n",
    "term_frequencies"
   ]
  },
  {
   "cell_type": "code",
   "execution_count": 19,
   "metadata": {},
   "outputs": [
    {
     "name": "stderr",
     "output_type": "stream",
     "text": [
      "C:\\Users\\User\\AppData\\Local\\Temp\\ipykernel_39572\\3480579971.py:4: UserWarning: set_ticklabels() should only be used with a fixed number of ticks, i.e. after set_ticks() or using a FixedLocator.\n",
      "  g.set_xticklabels(count_vect.get_feature_names_out()[:300], rotation = 90);\n"
     ]
    },
    {
     "data": {
      "image/png": "[encoded data removed]",
      "text/plain": [
       "<Figure size 10000x1000 with 1 Axes>"
      ]
     },
     "metadata": {},
     "output_type": "display_data"
    }
   ],
   "source": [
    "plt.subplots(figsize=(100, 10))\n",
    "g = sns.barplot(x=count_vect.get_feature_names_out()[:300], \n",
    "            y=term_frequencies[:300])\n",
    "g.set_xticklabels(count_vect.get_feature_names_out()[:300], rotation = 90);"
   ]
  },
  {
   "cell_type": "markdown",
   "metadata": {},
   "source": [
    "Interactive visualization using `plotly`."
   ]
  },
  {
   "cell_type": "code",
   "execution_count": 22,
   "metadata": {},
   "outputs": [],
   "source": [
    "import plotly.express as px"
   ]
  },
  {
   "cell_type": "code",
   "execution_count": 23,
   "metadata": {},
   "outputs": [
    {
     "data": {
      "application/vnd.plotly.v1+json": {
       "config": {
        "plotlyServerURL": "https://plot.ly"
       },
       "data": [
        {
         "alignmentgroup": "True",
         "hovertemplate": "x=%{x}<br>y=%{y}<extra></extra>",
         "legendgroup": "",
         "marker": {
          "color": "#636efa",
          "pattern": {
           "shape": ""
          }
         },
         "name": "",
         "offsetgroup": "",
         "orientation": "v",
         "showlegend": false,
         "textposition": "auto",
         "type": "bar",
         "x": [
          "00",
          "000",
          "045",
          "07",
          "10",
          "100",
          "10m",
          "11",
          "11th",
          "12",
          "13",
          "14",
          "15",
          "150",
          "16",
          "16years",
          "17",
          "17th",
          "18",
          "19",
          "1927",
          "1930",
          "1930s",
          "1950",
          "1950s",
          "1952",
          "1954",
          "1955",
          "1956",
          "1957",
          "1958",
          "1960",
          "1960s",
          "1962",
          "1963",
          "1964",
          "1965",
          "1966",
          "1967",
          "1968",
          "1969",
          "1970",
          "1970s",
          "1973",
          "1974",
          "1975",
          "1976",
          "1977",
          "1979",
          "1980",
          "1980s",
          "1981",
          "1985",
          "1987",
          "1988",
          "1989",
          "1990",
          "1992",
          "1993",
          "1996",
          "1997",
          "1998",
          "1st",
          "20",
          "2000s",
          "2002",
          "2006",
          "2009",
          "2010",
          "2014",
          "2015",
          "2016",
          "2017",
          "2018",
          "2019",
          "2040",
          "20s",
          "20th",
          "21",
          "21st",
          "21yr",
          "22",
          "22nd",
          "23",
          "25",
          "26",
          "27",
          "28",
          "29",
          "29th",
          "2nd",
          "30",
          "30s",
          "30th",
          "31",
          "32",
          "34",
          "36",
          "37",
          "3pm",
          "3rd",
          "40",
          "400",
          "40s",
          "40th",
          "40years",
          "40yrs",
          "42",
          "44yr",
          "45",
          "45rpm",
          "45s",
          "46",
          "47",
          "48am",
          "49",
          "4th",
          "50",
          "500",
          "50s",
          "51",
          "53",
          "55",
          "56",
          "57",
          "58",
          "59",
          "5th",
          "60",
          "60s",
          "60th",
          "60yrs",
          "61",
          "62",
          "63",
          "64",
          "66",
          "67",
          "68",
          "6pm",
          "6rtr",
          "6th",
          "70",
          "70s",
          "71",
          "72",
          "73",
          "74",
          "75",
          "76",
          "78",
          "80",
          "80s",
          "82",
          "86",
          "88",
          "89",
          "8th",
          "90",
          "90s",
          "94",
          "95",
          "97",
          "9th",
          "abandant",
          "ability",
          "able",
          "about",
          "above",
          "abroad",
          "absolutely",
          "absorbed",
          "accent",
          "accepting",
          "accident",
          "accurate",
          "acknowledge",
          "across",
          "act",
          "action",
          "actor",
          "actors",
          "actress",
          "actresses",
          "actually",
          "adaline",
          "adam",
          "add",
          "addition",
          "additional",
          "adds",
          "adele",
          "admit",
          "adorable",
          "adore",
          "ads",
          "adult",
          "adults",
          "advance",
          "advice",
          "affair",
          "affluence",
          "afford",
          "affordable",
          "afn",
          "afraid",
          "africa",
          "afro",
          "after",
          "afternoon",
          "afterwards",
          "afterwords",
          "again",
          "against",
          "age",
          "aged",
          "ageless",
          "ages",
          "ago",
          "agree",
          "ah",
          "ahead",
          "ain",
          "aint",
          "air",
          "airport",
          "aisle",
          "alabama",
          "alan",
          "album",
          "albums",
          "alike",
          "alive",
          "all",
          "allergies",
          "allowance",
          "almost",
          "alone",
          "along",
          "alongs",
          "aloud",
          "already",
          "alright",
          "also",
          "alternative",
          "although",
          "always",
          "am",
          "amazing",
          "amazingly",
          "amen",
          "america",
          "american",
          "ames",
          "among",
          "amount",
          "an",
          "ancient",
          "and",
          "angel",
          "angels",
          "angst",
          "anita",
          "anna",
          "anniversary",
          "announcement",
          "annoying",
          "another",
          "answer",
          "anthony",
          "anti",
          "any",
          "anybody",
          "anymore",
          "anyone",
          "anything",
          "anytime",
          "anyway",
          "apart",
          "apc",
          "apologies",
          "apologize",
          "apparent",
          "apparently",
          "appeals",
          "appear",
          "appearances",
          "appeared",
          "appears",
          "apply",
          "appreciate",
          "appreciated",
          "appreciation",
          "april",
          "apropos",
          "apt",
          "are",
          "aren",
          "arm",
          "arms"
         ],
         "xaxis": "x",
         "y": [
          1,
          2,
          1,
          2,
          16,
          5,
          1,
          8,
          1,
          11,
          8,
          15,
          10,
          2,
          12,
          1,
          13,
          1,
          9,
          6,
          1,
          1,
          1,
          1,
          3,
          2,
          4,
          1,
          1,
          1,
          2,
          5,
          3,
          2,
          12,
          1,
          3,
          10,
          3,
          2,
          2,
          5,
          3,
          7,
          2,
          1,
          4,
          3,
          2,
          7,
          1,
          2,
          2,
          4,
          6,
          2,
          1,
          1,
          1,
          1,
          1,
          2,
          5,
          11,
          1,
          1,
          2,
          2,
          1,
          1,
          2,
          2,
          1,
          8,
          25,
          1,
          1,
          1,
          3,
          1,
          1,
          2,
          1,
          1,
          4,
          1,
          3,
          3,
          3,
          1,
          2,
          11,
          1,
          2,
          2,
          2,
          1,
          1,
          1,
          1,
          1,
          13,
          1,
          1,
          2,
          1,
          1,
          2,
          1,
          4,
          1,
          2,
          1,
          5,
          1,
          1,
          1,
          20,
          1,
          7,
          1,
          3,
          4,
          2,
          3,
          2,
          2,
          1,
          28,
          20,
          1,
          1,
          1,
          3,
          2,
          2,
          2,
          4,
          1,
          1,
          1,
          2,
          24,
          17,
          2,
          1,
          3,
          1,
          1,
          3,
          1,
          19,
          16,
          1,
          1,
          1,
          1,
          1,
          6,
          6,
          2,
          1,
          1,
          1,
          1,
          1,
          9,
          82,
          2,
          1,
          14,
          1,
          1,
          1,
          2,
          1,
          1,
          3,
          1,
          1,
          1,
          2,
          4,
          1,
          11,
          1,
          1,
          3,
          1,
          1,
          1,
          1,
          3,
          1,
          3,
          1,
          3,
          2,
          2,
          1,
          1,
          1,
          1,
          1,
          1,
          2,
          1,
          2,
          47,
          3,
          1,
          1,
          55,
          3,
          35,
          3,
          1,
          2,
          46,
          7,
          2,
          2,
          4,
          1,
          2,
          1,
          1,
          1,
          1,
          10,
          3,
          1,
          9,
          181,
          1,
          1,
          17,
          4,
          14,
          1,
          1,
          7,
          1,
          18,
          1,
          8,
          127,
          94,
          33,
          3,
          2,
          3,
          2,
          3,
          3,
          2,
          72,
          1,
          923,
          10,
          1,
          1,
          1,
          1,
          1,
          1,
          1,
          26,
          1,
          1,
          1,
          26,
          7,
          22,
          22,
          9,
          3,
          2,
          3,
          1,
          1,
          1,
          1,
          2,
          1,
          2,
          1,
          2,
          1,
          1,
          10,
          4,
          2,
          2,
          1,
          1,
          103,
          4,
          2,
          2
         ],
         "yaxis": "y"
        }
       ],
       "layout": {
        "barmode": "relative",
        "legend": {
         "tracegroupgap": 0
        },
        "margin": {
         "t": 60
        },
        "template": {
         "data": {
          "bar": [
           {
            "error_x": {
             "color": "#2a3f5f"
            },
            "error_y": {
             "color": "#2a3f5f"
            },
            "marker": {
             "line": {
              "color": "#E5ECF6",
              "width": 0.5
             },
             "pattern": {
              "fillmode": "overlay",
              "size": 10,
              "solidity": 0.2
             }
            },
            "type": "bar"
           }
          ],
          "barpolar": [
           {
            "marker": {
             "line": {
              "color": "#E5ECF6",
              "width": 0.5
             },
             "pattern": {
              "fillmode": "overlay",
              "size": 10,
              "solidity": 0.2
             }
            },
            "type": "barpolar"
           }
          ],
          "carpet": [
           {
            "aaxis": {
             "endlinecolor": "#2a3f5f",
             "gridcolor": "white",
             "linecolor": "white",
             "minorgridcolor": "white",
             "startlinecolor": "#2a3f5f"
            },
            "baxis": {
             "endlinecolor": "#2a3f5f",
             "gridcolor": "white",
             "linecolor": "white",
             "minorgridcolor": "white",
             "startlinecolor": "#2a3f5f"
            },
            "type": "carpet"
           }
          ],
          "choropleth": [
           {
            "colorbar": {
             "outlinewidth": 0,
             "ticks": ""
            },
            "type": "choropleth"
           }
          ],
          "contour": [
           {
            "colorbar": {
             "outlinewidth": 0,
             "ticks": ""
            },
            "colorscale": [
             [
              0,
              "#0d0887"
             ],
             [
              0.1111111111111111,
              "#46039f"
             ],
             [
              0.2222222222222222,
              "#7201a8"
             ],
             [
              0.3333333333333333,
              "#9c179e"
             ],
             [
              0.4444444444444444,
              "#bd3786"
             ],
             [
              0.5555555555555556,
              "#d8576b"
             ],
             [
              0.6666666666666666,
              "#ed7953"
             ],
             [
              0.7777777777777778,
              "#fb9f3a"
             ],
             [
              0.8888888888888888,
              "#fdca26"
             ],
             [
              1,
              "#f0f921"
             ]
            ],
            "type": "contour"
           }
          ],
          "contourcarpet": [
           {
            "colorbar": {
             "outlinewidth": 0,
             "ticks": ""
            },
            "type": "contourcarpet"
           }
          ],
          "heatmap": [
           {
            "colorbar": {
             "outlinewidth": 0,
             "ticks": ""
            },
            "colorscale": [
             [
              0,
              "#0d0887"
             ],
             [
              0.1111111111111111,
              "#46039f"
             ],
             [
              0.2222222222222222,
              "#7201a8"
             ],
             [
              0.3333333333333333,
              "#9c179e"
             ],
             [
              0.4444444444444444,
              "#bd3786"
             ],
             [
              0.5555555555555556,
              "#d8576b"
             ],
             [
              0.6666666666666666,
              "#ed7953"
             ],
             [
              0.7777777777777778,
              "#fb9f3a"
             ],
             [
              0.8888888888888888,
              "#fdca26"
             ],
             [
              1,
              "#f0f921"
             ]
            ],
            "type": "heatmap"
           }
          ],
          "heatmapgl": [
           {
            "colorbar": {
             "outlinewidth": 0,
             "ticks": ""
            },
            "colorscale": [
             [
              0,
              "#0d0887"
             ],
             [
              0.1111111111111111,
              "#46039f"
             ],
             [
              0.2222222222222222,
              "#7201a8"
             ],
             [
              0.3333333333333333,
              "#9c179e"
             ],
             [
              0.4444444444444444,
              "#bd3786"
             ],
             [
              0.5555555555555556,
              "#d8576b"
             ],
             [
              0.6666666666666666,
              "#ed7953"
             ],
             [
              0.7777777777777778,
              "#fb9f3a"
             ],
             [
              0.8888888888888888,
              "#fdca26"
             ],
             [
              1,
              "#f0f921"
             ]
            ],
            "type": "heatmapgl"
           }
          ],
          "histogram": [
           {
            "marker": {
             "pattern": {
              "fillmode": "overlay",
              "size": 10,
              "solidity": 0.2
             }
            },
            "type": "histogram"
           }
          ],
          "histogram2d": [
           {
            "colorbar": {
             "outlinewidth": 0,
             "ticks": ""
            },
            "colorscale": [
             [
              0,
              "#0d0887"
             ],
             [
              0.1111111111111111,
              "#46039f"
             ],
             [
              0.2222222222222222,
              "#7201a8"
             ],
             [
              0.3333333333333333,
              "#9c179e"
             ],
             [
              0.4444444444444444,
              "#bd3786"
             ],
             [
              0.5555555555555556,
              "#d8576b"
             ],
             [
              0.6666666666666666,
              "#ed7953"
             ],
             [
              0.7777777777777778,
              "#fb9f3a"
             ],
             [
              0.8888888888888888,
              "#fdca26"
             ],
             [
              1,
              "#f0f921"
             ]
            ],
            "type": "histogram2d"
           }
          ],
          "histogram2dcontour": [
           {
            "colorbar": {
             "outlinewidth": 0,
             "ticks": ""
            },
            "colorscale": [
             [
              0,
              "#0d0887"
             ],
             [
              0.1111111111111111,
              "#46039f"
             ],
             [
              0.2222222222222222,
              "#7201a8"
             ],
             [
              0.3333333333333333,
              "#9c179e"
             ],
             [
              0.4444444444444444,
              "#bd3786"
             ],
             [
              0.5555555555555556,
              "#d8576b"
             ],
             [
              0.6666666666666666,
              "#ed7953"
             ],
             [
              0.7777777777777778,
              "#fb9f3a"
             ],
             [
              0.8888888888888888,
              "#fdca26"
             ],
             [
              1,
              "#f0f921"
             ]
            ],
            "type": "histogram2dcontour"
           }
          ],
          "mesh3d": [
           {
            "colorbar": {
             "outlinewidth": 0,
             "ticks": ""
            },
            "type": "mesh3d"
           }
          ],
          "parcoords": [
           {
            "line": {
             "colorbar": {
              "outlinewidth": 0,
              "ticks": ""
             }
            },
            "type": "parcoords"
           }
          ],
          "pie": [
           {
            "automargin": true,
            "type": "pie"
           }
          ],
          "scatter": [
           {
            "fillpattern": {
             "fillmode": "overlay",
             "size": 10,
             "solidity": 0.2
            },
            "type": "scatter"
           }
          ],
          "scatter3d": [
           {
            "line": {
             "colorbar": {
              "outlinewidth": 0,
              "ticks": ""
             }
            },
            "marker": {
             "colorbar": {
              "outlinewidth": 0,
              "ticks": ""
             }
            },
            "type": "scatter3d"
           }
          ],
          "scattercarpet": [
           {
            "marker": {
             "colorbar": {
              "outlinewidth": 0,
              "ticks": ""
             }
            },
            "type": "scattercarpet"
           }
          ],
          "scattergeo": [
           {
            "marker": {
             "colorbar": {
              "outlinewidth": 0,
              "ticks": ""
             }
            },
            "type": "scattergeo"
           }
          ],
          "scattergl": [
           {
            "marker": {
             "colorbar": {
              "outlinewidth": 0,
              "ticks": ""
             }
            },
            "type": "scattergl"
           }
          ],
          "scattermapbox": [
           {
            "marker": {
             "colorbar": {
              "outlinewidth": 0,
              "ticks": ""
             }
            },
            "type": "scattermapbox"
           }
          ],
          "scatterpolar": [
           {
            "marker": {
             "colorbar": {
              "outlinewidth": 0,
              "ticks": ""
             }
            },
            "type": "scatterpolar"
           }
          ],
          "scatterpolargl": [
           {
            "marker": {
             "colorbar": {
              "outlinewidth": 0,
              "ticks": ""
             }
            },
            "type": "scatterpolargl"
           }
          ],
          "scatterternary": [
           {
            "marker": {
             "colorbar": {
              "outlinewidth": 0,
              "ticks": ""
             }
            },
            "type": "scatterternary"
           }
          ],
          "surface": [
           {
            "colorbar": {
             "outlinewidth": 0,
             "ticks": ""
            },
            "colorscale": [
             [
              0,
              "#0d0887"
             ],
             [
              0.1111111111111111,
              "#46039f"
             ],
             [
              0.2222222222222222,
              "#7201a8"
             ],
             [
              0.3333333333333333,
              "#9c179e"
             ],
             [
              0.4444444444444444,
              "#bd3786"
             ],
             [
              0.5555555555555556,
              "#d8576b"
             ],
             [
              0.6666666666666666,
              "#ed7953"
             ],
             [
              0.7777777777777778,
              "#fb9f3a"
             ],
             [
              0.8888888888888888,
              "#fdca26"
             ],
             [
              1,
              "#f0f921"
             ]
            ],
            "type": "surface"
           }
          ],
          "table": [
           {
            "cells": {
             "fill": {
              "color": "#EBF0F8"
             },
             "line": {
              "color": "white"
             }
            },
            "header": {
             "fill": {
              "color": "#C8D4E3"
             },
             "line": {
              "color": "white"
             }
            },
            "type": "table"
           }
          ]
         },
         "layout": {
          "annotationdefaults": {
           "arrowcolor": "#2a3f5f",
           "arrowhead": 0,
           "arrowwidth": 1
          },
          "autotypenumbers": "strict",
          "coloraxis": {
           "colorbar": {
            "outlinewidth": 0,
            "ticks": ""
           }
          },
          "colorscale": {
           "diverging": [
            [
             0,
             "#8e0152"
            ],
            [
             0.1,
             "#c51b7d"
            ],
            [
             0.2,
             "#de77ae"
            ],
            [
             0.3,
             "#f1b6da"
            ],
            [
             0.4,
             "#fde0ef"
            ],
            [
             0.5,
             "#f7f7f7"
            ],
            [
             0.6,
             "#e6f5d0"
            ],
            [
             0.7,
             "#b8e186"
            ],
            [
             0.8,
             "#7fbc41"
            ],
            [
             0.9,
             "#4d9221"
            ],
            [
             1,
             "#276419"
            ]
           ],
           "sequential": [
            [
             0,
             "#0d0887"
            ],
            [
             0.1111111111111111,
             "#46039f"
            ],
            [
             0.2222222222222222,
             "#7201a8"
            ],
            [
             0.3333333333333333,
             "#9c179e"
            ],
            [
             0.4444444444444444,
             "#bd3786"
            ],
            [
             0.5555555555555556,
             "#d8576b"
            ],
            [
             0.6666666666666666,
             "#ed7953"
            ],
            [
             0.7777777777777778,
             "#fb9f3a"
            ],
            [
             0.8888888888888888,
             "#fdca26"
            ],
            [
             1,
             "#f0f921"
            ]
           ],
           "sequentialminus": [
            [
             0,
             "#0d0887"
            ],
            [
             0.1111111111111111,
             "#46039f"
            ],
            [
             0.2222222222222222,
             "#7201a8"
            ],
            [
             0.3333333333333333,
             "#9c179e"
            ],
            [
             0.4444444444444444,
             "#bd3786"
            ],
            [
             0.5555555555555556,
             "#d8576b"
            ],
            [
             0.6666666666666666,
             "#ed7953"
            ],
            [
             0.7777777777777778,
             "#fb9f3a"
            ],
            [
             0.8888888888888888,
             "#fdca26"
            ],
            [
             1,
             "#f0f921"
            ]
           ]
          },
          "colorway": [
           "#636efa",
           "#EF553B",
           "#00cc96",
           "#ab63fa",
           "#FFA15A",
           "#19d3f3",
           "#FF6692",
           "#B6E880",
           "#FF97FF",
           "#FECB52"
          ],
          "font": {
           "color": "#2a3f5f"
          },
          "geo": {
           "bgcolor": "white",
           "lakecolor": "white",
           "landcolor": "#E5ECF6",
           "showlakes": true,
           "showland": true,
           "subunitcolor": "white"
          },
          "hoverlabel": {
           "align": "left"
          },
          "hovermode": "closest",
          "mapbox": {
           "style": "light"
          },
          "paper_bgcolor": "white",
          "plot_bgcolor": "#E5ECF6",
          "polar": {
           "angularaxis": {
            "gridcolor": "white",
            "linecolor": "white",
            "ticks": ""
           },
           "bgcolor": "#E5ECF6",
           "radialaxis": {
            "gridcolor": "white",
            "linecolor": "white",
            "ticks": ""
           }
          },
          "scene": {
           "xaxis": {
            "backgroundcolor": "#E5ECF6",
            "gridcolor": "white",
            "gridwidth": 2,
            "linecolor": "white",
            "showbackground": true,
            "ticks": "",
            "zerolinecolor": "white"
           },
           "yaxis": {
            "backgroundcolor": "#E5ECF6",
            "gridcolor": "white",
            "gridwidth": 2,
            "linecolor": "white",
            "showbackground": true,
            "ticks": "",
            "zerolinecolor": "white"
           },
           "zaxis": {
            "backgroundcolor": "#E5ECF6",
            "gridcolor": "white",
            "gridwidth": 2,
            "linecolor": "white",
            "showbackground": true,
            "ticks": "",
            "zerolinecolor": "white"
           }
          },
          "shapedefaults": {
           "line": {
            "color": "#2a3f5f"
           }
          },
          "ternary": {
           "aaxis": {
            "gridcolor": "white",
            "linecolor": "white",
            "ticks": ""
           },
           "baxis": {
            "gridcolor": "white",
            "linecolor": "white",
            "ticks": ""
           },
           "bgcolor": "#E5ECF6",
           "caxis": {
            "gridcolor": "white",
            "linecolor": "white",
            "ticks": ""
           }
          },
          "title": {
           "x": 0.05
          },
          "xaxis": {
           "automargin": true,
           "gridcolor": "white",
           "linecolor": "white",
           "ticks": "",
           "title": {
            "standoff": 15
           },
           "zerolinecolor": "white",
           "zerolinewidth": 2
          },
          "yaxis": {
           "automargin": true,
           "gridcolor": "white",
           "linecolor": "white",
           "ticks": "",
           "title": {
            "standoff": 15
           },
           "zerolinecolor": "white",
           "zerolinewidth": 2
          }
         }
        },
        "xaxis": {
         "anchor": "y",
         "domain": [
          0,
          1
         ],
         "title": {
          "text": "x"
         }
        },
        "yaxis": {
         "anchor": "x",
         "domain": [
          0,
          1
         ],
         "title": {
          "text": "y"
         }
        }
       }
      }
     },
     "metadata": {},
     "output_type": "display_data"
    }
   ],
   "source": [
    "fig = px.bar(x=count_vect.get_feature_names_out()[:300], \n",
    "            y=term_frequencies[:300])\n",
    "fig.show()"
   ]
  },
  {
   "cell_type": "code",
   "execution_count": null,
   "metadata": {},
   "outputs": [],
   "source": [
    "# Answer here\n",
    "# For the 300 vocabulary, do not show the term that has frequency < 50\n",
    "term_frequencies = np.asarray(X_counts.sum(axis=0))[0]\n",
    "print('Total term:',len(term_frequencies))\n",
    "term_frequencies = term_frequencies[term_frequencies >= 50]\n",
    "print('Total term with frequency >= 50:',len(term_frequencies))\n",
    "# print(term_frequencies)\n",
    "\n",
    "plt.subplots(figsize=(100, 10))\n",
    "g = sns.barplot(x=count_vect.get_feature_names_out()[term_frequencies[:300]], \n",
    "            y=term_frequencies[:300])\n",
    "g.set_xticklabels(count_vect.get_feature_names_out()[term_frequencies], rotation = 90);\n",
    "# fig = px.bar(x=count_vect.get_feature_names_out()[term_frequencies[:300]], \n",
    "#             y=term_frequencies[:300])\n",
    "# fig.show()\n",
    "\n",
    "##-------------------------------------\n",
    "# For the 300 vocabulary, do not show the term that has frequency < 100\n",
    "print('---------------------------------')\n",
    "term_frequencies = np.asarray(X_counts.sum(axis=0))[0]\n",
    "print('Total term:',len(term_frequencies))\n",
    "term_frequencies = term_frequencies[term_frequencies >= 100]\n",
    "print('Total term with frequency >= 100:',len(term_frequencies))\n",
    "# print(term_frequencies)\n",
    "\n",
    "plt.subplots(figsize=(100, 10))\n",
    "g = sns.barplot(x=count_vect.get_feature_names_out()[term_frequencies[:300]], \n",
    "            y=term_frequencies[:300])\n",
    "g.set_xticklabels(count_vect.get_feature_names_out()[term_frequencies], rotation = 90);\n",
    "# fig = px.bar(x=count_vect.get_feature_names_out()[term_frequencies[:300]], \n",
    "#             y=term_frequencies[:300])\n",
    "# fig.show()\n",
    "\n",
    "##-------------------------------------\n",
    "# For the 300 vocabulary, do not show the term that has frequency < 500\n",
    "print('---------------------------------')\n",
    "term_frequencies = np.asarray(X_counts.sum(axis=0))[0]\n",
    "print('Total term:',len(term_frequencies))\n",
    "term_frequencies = term_frequencies[term_frequencies >= 500]\n",
    "print('Total term with frequency >= 500:',len(term_frequencies))\n",
    "# print(term_frequencies)\n",
    "\n",
    "plt.subplots(figsize=(100, 10))\n",
    "g = sns.barplot(x=count_vect.get_feature_names_out()[term_frequencies[:300]],\n",
    "            y=term_frequencies[:300])\n",
    "g.set_xticklabels(count_vect.get_feature_names_out()[term_frequencies], rotation = 90);\n",
    "# fig = px.bar(x=count_vect.get_feature_names_out()[term_frequencies[:300]],\n",
    "#             y=term_frequencies[:300])\n",
    "# fig.show()"
   ]
  }
 ],
 "metadata": {
  "kernelspec": {
   "display_name": "DMHW",
   "language": "python",
   "name": "python3"
  },
  "language_info": {
   "codemirror_mode": {
    "name": "ipython",
    "version": 3
   },
   "file_extension": ".py",
   "mimetype": "text/x-python",
   "name": "python",
   "nbconvert_exporter": "python",
   "pygments_lexer": "ipython3",
   "version": "3.9.6"
  }
 },
 "nbformat": 4,
 "nbformat_minor": 2
}
